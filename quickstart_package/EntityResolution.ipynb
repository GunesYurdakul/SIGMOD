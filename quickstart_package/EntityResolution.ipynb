{
 "cells": [
  {
   "cell_type": "code",
   "execution_count": 1,
   "metadata": {},
   "outputs": [
    {
     "name": "stdout",
     "output_type": "stream",
     "text": [
      "[nltk_data] Downloading package stopwords to\n",
      "[nltk_data]     /Users/gunesyurdakul/nltk_data...\n",
      "[nltk_data]   Package stopwords is already up-to-date!\n"
     ]
    }
   ],
   "source": [
    "from EntityResolutionEngine import EntityResolutionEngine as EntityResolutionEngine \n",
    "\n",
    "import main as sigmod\n",
    "import similar_feature_grouping as similar_feature_grouping\n",
    "import helper as helper\n",
    "import pandas as pd"
   ]
  },
  {
   "cell_type": "code",
   "execution_count": 2,
   "metadata": {},
   "outputs": [
    {
     "name": "stderr",
     "output_type": "stream",
     "text": [
      "  8%|▊         | 2/24 [00:00<00:02, 10.73it/s]"
     ]
    },
    {
     "name": "stdout",
     "output_type": "stream",
     "text": [
      ">>> Creating dataframe...\n",
      "\n"
     ]
    },
    {
     "name": "stderr",
     "output_type": "stream",
     "text": [
      "100%|██████████| 24/24 [00:09<00:00,  2.56it/s]\n",
      "395it [00:00, 3946.76it/s]"
     ]
    },
    {
     "name": "stdout",
     "output_type": "stream",
     "text": [
      ">>> Dataframe created successfully!\n",
      "\n",
      ">>> Computing blocking...\n"
     ]
    },
    {
     "name": "stderr",
     "output_type": "stream",
     "text": [
      "29787it [00:05, 5438.51it/s]\n",
      "29787it [00:04, 6223.85it/s]\n"
     ]
    },
    {
     "name": "stdout",
     "output_type": "stream",
     "text": [
      "ended\n",
      ">>> Blocking computed successfully!\n",
      "\n"
     ]
    }
   ],
   "source": [
    "dataset_path=\"../datasets/2013_camera_specs/\"\n",
    "\n",
    "dataset_df = sigmod.create_brand_dataframe(dataset_path)\n",
    "dataset_df = sigmod.compute_brand_blocking(dataset_df)"
   ]
  },
  {
   "cell_type": "code",
   "execution_count": 3,
   "metadata": {},
   "outputs": [
    {
     "data": {
      "text/plain": [
       "297651"
      ]
     },
     "execution_count": 3,
     "metadata": {},
     "output_type": "execute_result"
    }
   ],
   "source": [
    "labelled_df = pd.read_csv('../datasets/sigmod_large_labelled_dataset.csv')\n",
    "same_products = sigmod.grouping_same_products_from_labelled_set(labelled_df)\n",
    "\n",
    "#They all represent the same products\n",
    "len(labelled_df)"
   ]
  },
  {
   "cell_type": "code",
   "execution_count": 4,
   "metadata": {},
   "outputs": [
    {
     "name": "stderr",
     "output_type": "stream",
     "text": [
      "100%|██████████| 24/24 [00:13<00:00,  2.05it/s]\n"
     ]
    }
   ],
   "source": [
    "data_dict=sigmod.get_all_keys_values(dataset_path)\n",
    "dataset_df['all_features'] = dataset_df['spec_id'].apply(lambda x: data_dict[x])"
   ]
  },
  {
   "cell_type": "code",
   "execution_count": 5,
   "metadata": {},
   "outputs": [],
   "source": [
    "dataset_df = dataset_df.set_index('spec_id')"
   ]
  },
  {
   "cell_type": "code",
   "execution_count": 6,
   "metadata": {},
   "outputs": [
    {
     "data": {
      "text/html": [
       "<div>\n",
       "<style scoped>\n",
       "    .dataframe tbody tr th:only-of-type {\n",
       "        vertical-align: middle;\n",
       "    }\n",
       "\n",
       "    .dataframe tbody tr th {\n",
       "        vertical-align: top;\n",
       "    }\n",
       "\n",
       "    .dataframe thead th {\n",
       "        text-align: right;\n",
       "    }\n",
       "</style>\n",
       "<table border=\"1\" class=\"dataframe\">\n",
       "  <thead>\n",
       "    <tr style=\"text-align: right;\">\n",
       "      <th></th>\n",
       "      <th>source</th>\n",
       "      <th>spec_number</th>\n",
       "      <th>page_title</th>\n",
       "      <th>brand</th>\n",
       "      <th>blocking_key</th>\n",
       "      <th>all_features</th>\n",
       "    </tr>\n",
       "    <tr>\n",
       "      <th>spec_id</th>\n",
       "      <th></th>\n",
       "      <th></th>\n",
       "      <th></th>\n",
       "      <th></th>\n",
       "      <th></th>\n",
       "      <th></th>\n",
       "    </tr>\n",
       "  </thead>\n",
       "  <tbody>\n",
       "    <tr>\n",
       "      <th>www.wexphotographic.com//154</th>\n",
       "      <td>www.wexphotographic.com</td>\n",
       "      <td>154</td>\n",
       "      <td>nikon coolpix aw120 digital camera - camouflag...</td>\n",
       "      <td></td>\n",
       "      <td>coolpix</td>\n",
       "      <td>{'colour': 'camouflage', 'file formats': 'jpeg...</td>\n",
       "    </tr>\n",
       "    <tr>\n",
       "      <th>www.wexphotographic.com//553</th>\n",
       "      <td>www.wexphotographic.com</td>\n",
       "      <td>553</td>\n",
       "      <td>canon ixus 150 digital camera - red (9148b007a...</td>\n",
       "      <td></td>\n",
       "      <td>canon</td>\n",
       "      <td>{'colour': 'red', 'file formats': 'jpeg, mov',...</td>\n",
       "    </tr>\n",
       "    <tr>\n",
       "      <th>www.wexphotographic.com//601</th>\n",
       "      <td>www.wexphotographic.com</td>\n",
       "      <td>601</td>\n",
       "      <td>fuji finepix s1 digital camera (p10nc12730a) -...</td>\n",
       "      <td></td>\n",
       "      <td>fujifilm</td>\n",
       "      <td>{'colour': 'black', 'file formats': 'jpeg, raw...</td>\n",
       "    </tr>\n",
       "    <tr>\n",
       "      <th>www.wexphotographic.com//197</th>\n",
       "      <td>www.wexphotographic.com</td>\n",
       "      <td>197</td>\n",
       "      <td>nikon coolpix s5300 digital camera - black (vn...</td>\n",
       "      <td></td>\n",
       "      <td>coolpix</td>\n",
       "      <td>{'colour': 'black', 'file formats': 'jpeg, mov...</td>\n",
       "    </tr>\n",
       "    <tr>\n",
       "      <th>www.wexphotographic.com//178</th>\n",
       "      <td>www.wexphotographic.com</td>\n",
       "      <td>178</td>\n",
       "      <td>fuji finepix s8600 digital camera - red (p10nc...</td>\n",
       "      <td></td>\n",
       "      <td>fujifilm</td>\n",
       "      <td>{'colour': 'red', 'file formats': 'jpeg, avi',...</td>\n",
       "    </tr>\n",
       "    <tr>\n",
       "      <th>...</th>\n",
       "      <td>...</td>\n",
       "      <td>...</td>\n",
       "      <td>...</td>\n",
       "      <td>...</td>\n",
       "      <td>...</td>\n",
       "      <td>...</td>\n",
       "    </tr>\n",
       "    <tr>\n",
       "      <th>www.canon-europe.com//23</th>\n",
       "      <td>www.canon-europe.com</td>\n",
       "      <td>23</td>\n",
       "      <td>canon powershot a560 - powershot and ixus digi...</td>\n",
       "      <td></td>\n",
       "      <td>powershot</td>\n",
       "      <td>{'exposure compensation': '+/- 2 ev 1/3 stop i...</td>\n",
       "    </tr>\n",
       "    <tr>\n",
       "      <th>www.canon-europe.com//74</th>\n",
       "      <td>www.canon-europe.com</td>\n",
       "      <td>74</td>\n",
       "      <td>canon ixus 210 - powershot and ixus digital co...</td>\n",
       "      <td></td>\n",
       "      <td>powershot</td>\n",
       "      <td>{'exposure compensation': '+/- 2 ev 1/3 stop i...</td>\n",
       "    </tr>\n",
       "    <tr>\n",
       "      <th>www.canon-europe.com//62</th>\n",
       "      <td>www.canon-europe.com</td>\n",
       "      <td>62</td>\n",
       "      <td>canon ixus 125 hs - powershot and ixus digital...</td>\n",
       "      <td></td>\n",
       "      <td>powershot</td>\n",
       "      <td>{'exposure compensation': '+/- 2 ev 1/3 stop i...</td>\n",
       "    </tr>\n",
       "    <tr>\n",
       "      <th>www.canon-europe.com//9</th>\n",
       "      <td>www.canon-europe.com</td>\n",
       "      <td>9</td>\n",
       "      <td>canon digital ixus 70 - powershot and ixus dig...</td>\n",
       "      <td></td>\n",
       "      <td>powershot</td>\n",
       "      <td>{'exposure compensation': '+/- 2 ev 1/3 stop i...</td>\n",
       "    </tr>\n",
       "    <tr>\n",
       "      <th>www.canon-europe.com//35</th>\n",
       "      <td>www.canon-europe.com</td>\n",
       "      <td>35</td>\n",
       "      <td>canon digital ixus 90 is - powershot and ixus ...</td>\n",
       "      <td></td>\n",
       "      <td>powershot</td>\n",
       "      <td>{'exposure compensation': '+/- 2 ev 1/3 stop i...</td>\n",
       "    </tr>\n",
       "  </tbody>\n",
       "</table>\n",
       "<p>33548 rows × 6 columns</p>\n",
       "</div>"
      ],
      "text/plain": [
       "                                               source spec_number  \\\n",
       "spec_id                                                             \n",
       "www.wexphotographic.com//154  www.wexphotographic.com         154   \n",
       "www.wexphotographic.com//553  www.wexphotographic.com         553   \n",
       "www.wexphotographic.com//601  www.wexphotographic.com         601   \n",
       "www.wexphotographic.com//197  www.wexphotographic.com         197   \n",
       "www.wexphotographic.com//178  www.wexphotographic.com         178   \n",
       "...                                               ...         ...   \n",
       "www.canon-europe.com//23         www.canon-europe.com          23   \n",
       "www.canon-europe.com//74         www.canon-europe.com          74   \n",
       "www.canon-europe.com//62         www.canon-europe.com          62   \n",
       "www.canon-europe.com//9          www.canon-europe.com           9   \n",
       "www.canon-europe.com//35         www.canon-europe.com          35   \n",
       "\n",
       "                                                                     page_title  \\\n",
       "spec_id                                                                           \n",
       "www.wexphotographic.com//154  nikon coolpix aw120 digital camera - camouflag...   \n",
       "www.wexphotographic.com//553  canon ixus 150 digital camera - red (9148b007a...   \n",
       "www.wexphotographic.com//601  fuji finepix s1 digital camera (p10nc12730a) -...   \n",
       "www.wexphotographic.com//197  nikon coolpix s5300 digital camera - black (vn...   \n",
       "www.wexphotographic.com//178  fuji finepix s8600 digital camera - red (p10nc...   \n",
       "...                                                                         ...   \n",
       "www.canon-europe.com//23      canon powershot a560 - powershot and ixus digi...   \n",
       "www.canon-europe.com//74      canon ixus 210 - powershot and ixus digital co...   \n",
       "www.canon-europe.com//62      canon ixus 125 hs - powershot and ixus digital...   \n",
       "www.canon-europe.com//9       canon digital ixus 70 - powershot and ixus dig...   \n",
       "www.canon-europe.com//35      canon digital ixus 90 is - powershot and ixus ...   \n",
       "\n",
       "                             brand blocking_key  \\\n",
       "spec_id                                           \n",
       "www.wexphotographic.com//154            coolpix   \n",
       "www.wexphotographic.com//553              canon   \n",
       "www.wexphotographic.com//601           fujifilm   \n",
       "www.wexphotographic.com//197            coolpix   \n",
       "www.wexphotographic.com//178           fujifilm   \n",
       "...                            ...          ...   \n",
       "www.canon-europe.com//23              powershot   \n",
       "www.canon-europe.com//74              powershot   \n",
       "www.canon-europe.com//62              powershot   \n",
       "www.canon-europe.com//9               powershot   \n",
       "www.canon-europe.com//35              powershot   \n",
       "\n",
       "                                                                   all_features  \n",
       "spec_id                                                                          \n",
       "www.wexphotographic.com//154  {'colour': 'camouflage', 'file formats': 'jpeg...  \n",
       "www.wexphotographic.com//553  {'colour': 'red', 'file formats': 'jpeg, mov',...  \n",
       "www.wexphotographic.com//601  {'colour': 'black', 'file formats': 'jpeg, raw...  \n",
       "www.wexphotographic.com//197  {'colour': 'black', 'file formats': 'jpeg, mov...  \n",
       "www.wexphotographic.com//178  {'colour': 'red', 'file formats': 'jpeg, avi',...  \n",
       "...                                                                         ...  \n",
       "www.canon-europe.com//23      {'exposure compensation': '+/- 2 ev 1/3 stop i...  \n",
       "www.canon-europe.com//74      {'exposure compensation': '+/- 2 ev 1/3 stop i...  \n",
       "www.canon-europe.com//62      {'exposure compensation': '+/- 2 ev 1/3 stop i...  \n",
       "www.canon-europe.com//9       {'exposure compensation': '+/- 2 ev 1/3 stop i...  \n",
       "www.canon-europe.com//35      {'exposure compensation': '+/- 2 ev 1/3 stop i...  \n",
       "\n",
       "[33548 rows x 6 columns]"
      ]
     },
     "execution_count": 6,
     "metadata": {},
     "output_type": "execute_result"
    }
   ],
   "source": [
    "dataset_df"
   ]
  },
  {
   "cell_type": "code",
   "execution_count": 7,
   "metadata": {
    "collapsed": true
   },
   "outputs": [],
   "source": [
    "from gensim.models import Word2Vec"
   ]
  },
  {
   "cell_type": "code",
   "execution_count": null,
   "metadata": {},
   "outputs": [],
   "source": [
    "#run this only if you don't have the pretrained model \n",
    "\"\"\" \n",
    "all_text=similar_feature_grouping.prepare_text_for_word2vec(data_dict)\n",
    "emb_dim=200\n",
    "model = Word2Vec(all_text, size=emb_dim, window=5, min_count=1, workers=4)\n",
    "model.train(all_text,total_examples=model.corpus_count,epochs=model.epochs)\n",
    "model.save('word2vec_200_features')\n",
    "\"\"\""
   ]
  },
  {
   "cell_type": "code",
   "execution_count": 8,
   "metadata": {},
   "outputs": [],
   "source": [
    "model= Word2Vec.load('word2vec_200_features')"
   ]
  },
  {
   "cell_type": "markdown",
   "metadata": {},
   "source": [
    "****"
   ]
  },
  {
   "cell_type": "code",
   "execution_count": 9,
   "metadata": {},
   "outputs": [],
   "source": [
    "entity_resolution_engine = EntityResolutionEngine(model,dataset_df,labelled_df)\n",
    "entity_resolution_engine.set_model_words_column()"
   ]
  },
  {
   "cell_type": "markdown",
   "metadata": {},
   "source": [
    "****"
   ]
  },
  {
   "cell_type": "markdown",
   "metadata": {},
   "source": [
    "# Experimenting on Results for Each Block"
   ]
  },
  {
   "cell_type": "code",
   "execution_count": 28,
   "metadata": {
    "collapsed": true
   },
   "outputs": [],
   "source": [
    "blocking_key='samsung'"
   ]
  },
  {
   "cell_type": "code",
   "execution_count": 29,
   "metadata": {},
   "outputs": [
    {
     "name": "stderr",
     "output_type": "stream",
     "text": [
      "/Users/gunesyurdakul/Desktop/EPFL-Spring2020/Database systems/comp/quickstart_package 2/quickstart_package/EntityResolutionEngine.py:68: SettingWithCopyWarning: \n",
      "A value is trying to be set on a copy of a slice from a DataFrame.\n",
      "Try using .loc[row_indexer,col_indexer] = value instead\n",
      "\n",
      "See the caveats in the documentation: http://pandas.pydata.org/pandas-docs/stable/user_guide/indexing.html#returning-a-view-versus-a-copy\n",
      "  self.block_df['concat_wordvector']=''\n"
     ]
    }
   ],
   "source": [
    "entity_resolution_engine.set_block(blocking_key)"
   ]
  },
  {
   "cell_type": "code",
   "execution_count": 30,
   "metadata": {},
   "outputs": [
    {
     "data": {
      "text/plain": [
       "1081"
      ]
     },
     "execution_count": 30,
     "metadata": {},
     "output_type": "execute_result"
    }
   ],
   "source": [
    "pd.set_option('display.max_columns', None)\n",
    "pd.set_option('display.max_rows', 500)\n",
    "len(entity_resolution_engine.block_df)"
   ]
  },
  {
   "cell_type": "markdown",
   "metadata": {},
   "source": [
    "### DIMENSIONALITY REDUCTION AND CLUSTERING"
   ]
  },
  {
   "cell_type": "code",
   "execution_count": 31,
   "metadata": {},
   "outputs": [
    {
     "name": "stderr",
     "output_type": "stream",
     "text": [
      "/Users/gunesyurdakul/Desktop/EPFL-Spring2020/Database systems/comp/quickstart_package 2/quickstart_package/EntityResolutionEngine.py:91: SettingWithCopyWarning: \n",
      "A value is trying to be set on a copy of a slice from a DataFrame.\n",
      "Try using .loc[row_indexer,col_indexer] = value instead\n",
      "\n",
      "See the caveats in the documentation: http://pandas.pydata.org/pandas-docs/stable/user_guide/indexing.html#returning-a-view-versus-a-copy\n",
      "  self.block_df['inblock_cluster'] = self.assigned_clusters\n"
     ]
    }
   ],
   "source": [
    "labels,T = entity_resolution_engine.run_TSNE()\n",
    "entity_resolution_engine.run_DBSCAN(eps_=8, min_samples_=3)"
   ]
  },
  {
   "cell_type": "markdown",
   "metadata": {},
   "source": [
    "****"
   ]
  },
  {
   "cell_type": "code",
   "execution_count": null,
   "metadata": {},
   "outputs": [],
   "source": [
    "import matplotlib.pyplot as plt\n",
    "plt.figure(figsize=(30,20))\n",
    "plt.scatter(T[:,0], T[:,1], c=entity_resolution_engine.assigned_clusters, cmap='hsv')\n",
    "\n",
    "for label, x, y in zip(labels, T[:, 0], T[:, 1]):\n",
    "    plt.annotate(label, xy=(x+1, y+1), xytext=(0, 0), textcoords='offset points')"
   ]
  },
  {
   "cell_type": "code",
   "execution_count": null,
   "metadata": {
    "scrolled": true
   },
   "outputs": [],
   "source": [
    "plt.show()"
   ]
  },
  {
   "cell_type": "code",
   "execution_count": null,
   "metadata": {},
   "outputs": [],
   "source": [
    "entity_resolution_engine.get_pairs(threshold=0.2)"
   ]
  },
  {
   "cell_type": "code",
   "execution_count": null,
   "metadata": {},
   "outputs": [],
   "source": [
    "for cluster in entity_resolution_engine.product_clusters:\n",
    "    for spec_id in cluster:\n",
    "        print(dataset_df.loc[spec_id][['page_title']].values)\n",
    "        print('-------------------')"
   ]
  },
  {
   "cell_type": "code",
   "execution_count": 26,
   "metadata": {},
   "outputs": [
    {
     "data": {
      "text/plain": [
       "array([ 0,  0,  0, ..., 13, 20, 13])"
      ]
     },
     "execution_count": 26,
     "metadata": {},
     "output_type": "execute_result"
    }
   ],
   "source": [
    "entity_resolution_engine.assigned_clusters"
   ]
  },
  {
   "cell_type": "markdown",
   "metadata": {},
   "source": [
    "----------------------"
   ]
  },
  {
   "cell_type": "code",
   "execution_count": 35,
   "metadata": {
    "collapsed": true
   },
   "outputs": [],
   "source": [
    "entity_resolution_engine = EntityResolutionEngine(model,dataset_df,labelled_df)"
   ]
  },
  {
   "cell_type": "code",
   "execution_count": 36,
   "metadata": {},
   "outputs": [
    {
     "name": "stdout",
     "output_type": "stream",
     "text": [
      "sigma\n"
     ]
    },
    {
     "name": "stderr",
     "output_type": "stream",
     "text": [
      "/Users/gunesyurdakul/Desktop/EPFL-Spring2020/Database systems/comp/quickstart_package 2/quickstart_package/EntityResolutionEngine.py:68: SettingWithCopyWarning: \n",
      "A value is trying to be set on a copy of a slice from a DataFrame.\n",
      "Try using .loc[row_indexer,col_indexer] = value instead\n",
      "\n",
      "See the caveats in the documentation: http://pandas.pydata.org/pandas-docs/stable/user_guide/indexing.html#returning-a-view-versus-a-copy\n",
      "  self.block_df['concat_wordvector']=''\n",
      "/Users/gunesyurdakul/Desktop/EPFL-Spring2020/Database systems/comp/quickstart_package 2/quickstart_package/EntityResolutionEngine.py:91: SettingWithCopyWarning: \n",
      "A value is trying to be set on a copy of a slice from a DataFrame.\n",
      "Try using .loc[row_indexer,col_indexer] = value instead\n",
      "\n",
      "See the caveats in the documentation: http://pandas.pydata.org/pandas-docs/stable/user_guide/indexing.html#returning-a-view-versus-a-copy\n",
      "  self.block_df['inblock_cluster'] = self.assigned_clusters\n"
     ]
    },
    {
     "name": "stdout",
     "output_type": "stream",
     "text": [
      "hooya\n"
     ]
    },
    {
     "name": "stderr",
     "output_type": "stream",
     "text": [
      "/Users/gunesyurdakul/Desktop/EPFL-Spring2020/Database systems/comp/quickstart_package 2/quickstart_package/EntityResolutionEngine.py:68: SettingWithCopyWarning: \n",
      "A value is trying to be set on a copy of a slice from a DataFrame.\n",
      "Try using .loc[row_indexer,col_indexer] = value instead\n",
      "\n",
      "See the caveats in the documentation: http://pandas.pydata.org/pandas-docs/stable/user_guide/indexing.html#returning-a-view-versus-a-copy\n",
      "  self.block_df['concat_wordvector']=''\n"
     ]
    },
    {
     "ename": "ValueError",
     "evalue": "Found array with 1 sample(s) (shape=(1, 400)) while a minimum of 2 is required.",
     "output_type": "error",
     "traceback": [
      "\u001b[0;31m---------------------------------------------------------------------------\u001b[0m",
      "\u001b[0;31mValueError\u001b[0m                                Traceback (most recent call last)",
      "\u001b[0;32m<ipython-input-36-c08cf2adf367>\u001b[0m in \u001b[0;36m<module>\u001b[0;34m()\u001b[0m\n\u001b[1;32m      3\u001b[0m     \u001b[0mentity_resolution_engine\u001b[0m\u001b[0;34m.\u001b[0m\u001b[0mset_model_words_column\u001b[0m\u001b[0;34m(\u001b[0m\u001b[0;34m)\u001b[0m\u001b[0;34m\u001b[0m\u001b[0m\n\u001b[1;32m      4\u001b[0m     \u001b[0mentity_resolution_engine\u001b[0m\u001b[0;34m.\u001b[0m\u001b[0mset_block\u001b[0m\u001b[0;34m(\u001b[0m\u001b[0mblocking_key\u001b[0m\u001b[0;34m)\u001b[0m\u001b[0;34m\u001b[0m\u001b[0m\n\u001b[0;32m----> 5\u001b[0;31m     \u001b[0mlabels\u001b[0m\u001b[0;34m,\u001b[0m\u001b[0mT\u001b[0m \u001b[0;34m=\u001b[0m \u001b[0mentity_resolution_engine\u001b[0m\u001b[0;34m.\u001b[0m\u001b[0mrun_TSNE\u001b[0m\u001b[0;34m(\u001b[0m\u001b[0;34m)\u001b[0m\u001b[0;34m\u001b[0m\u001b[0m\n\u001b[0m\u001b[1;32m      6\u001b[0m     \u001b[0mentity_resolution_engine\u001b[0m\u001b[0;34m.\u001b[0m\u001b[0mrun_DBSCAN\u001b[0m\u001b[0;34m(\u001b[0m\u001b[0meps_\u001b[0m\u001b[0;34m=\u001b[0m\u001b[0;36m8\u001b[0m\u001b[0;34m,\u001b[0m \u001b[0mmin_samples_\u001b[0m\u001b[0;34m=\u001b[0m\u001b[0;36m2\u001b[0m\u001b[0;34m)\u001b[0m\u001b[0;34m\u001b[0m\u001b[0m\n\u001b[1;32m      7\u001b[0m     \u001b[0mentity_resolution_engine\u001b[0m\u001b[0;34m.\u001b[0m\u001b[0mget_pairs\u001b[0m\u001b[0;34m(\u001b[0m\u001b[0mthreshold\u001b[0m\u001b[0;34m=\u001b[0m\u001b[0;36m0.2\u001b[0m\u001b[0;34m)\u001b[0m\u001b[0;34m\u001b[0m\u001b[0m\n",
      "\u001b[0;32m/Users/gunesyurdakul/Desktop/EPFL-Spring2020/Database systems/comp/quickstart_package 2/quickstart_package/EntityResolutionEngine.py\u001b[0m in \u001b[0;36mrun_TSNE\u001b[0;34m(self, n_components_, n_iter_, perplexity_)\u001b[0m\n\u001b[1;32m     81\u001b[0m         \u001b[0mtsne\u001b[0m \u001b[0;34m=\u001b[0m \u001b[0mTSNE\u001b[0m\u001b[0;34m(\u001b[0m\u001b[0mn_components\u001b[0m\u001b[0;34m=\u001b[0m\u001b[0mn_components_\u001b[0m\u001b[0;34m,\u001b[0m \u001b[0mrandom_state\u001b[0m\u001b[0;34m=\u001b[0m\u001b[0;36m0\u001b[0m\u001b[0;34m,\u001b[0m \u001b[0mn_iter\u001b[0m\u001b[0;34m=\u001b[0m\u001b[0mn_iter_\u001b[0m\u001b[0;34m,\u001b[0m \u001b[0mperplexity\u001b[0m\u001b[0;34m=\u001b[0m\u001b[0mperplexity_\u001b[0m\u001b[0;34m)\u001b[0m\u001b[0;34m\u001b[0m\u001b[0m\n\u001b[1;32m     82\u001b[0m         \u001b[0mnp\u001b[0m\u001b[0;34m.\u001b[0m\u001b[0mset_printoptions\u001b[0m\u001b[0;34m(\u001b[0m\u001b[0msuppress\u001b[0m\u001b[0;34m=\u001b[0m\u001b[0;32mTrue\u001b[0m\u001b[0;34m)\u001b[0m\u001b[0;34m\u001b[0m\u001b[0m\n\u001b[0;32m---> 83\u001b[0;31m         \u001b[0mself\u001b[0m\u001b[0;34m.\u001b[0m\u001b[0mT\u001b[0m \u001b[0;34m=\u001b[0m \u001b[0mtsne\u001b[0m\u001b[0;34m.\u001b[0m\u001b[0mfit_transform\u001b[0m\u001b[0;34m(\u001b[0m\u001b[0mX\u001b[0m\u001b[0;34m)\u001b[0m\u001b[0;34m\u001b[0m\u001b[0m\n\u001b[0m\u001b[1;32m     84\u001b[0m         \u001b[0mself\u001b[0m\u001b[0;34m.\u001b[0m\u001b[0mlabels\u001b[0m \u001b[0;34m=\u001b[0m \u001b[0mself\u001b[0m\u001b[0;34m.\u001b[0m\u001b[0mblock_df\u001b[0m\u001b[0;34m[\u001b[0m\u001b[0;34m'spec_number'\u001b[0m\u001b[0;34m]\u001b[0m\u001b[0;34m.\u001b[0m\u001b[0mvalues\u001b[0m\u001b[0;34m\u001b[0m\u001b[0m\n\u001b[1;32m     85\u001b[0m         \u001b[0;32mreturn\u001b[0m \u001b[0mself\u001b[0m\u001b[0;34m.\u001b[0m\u001b[0mlabels\u001b[0m\u001b[0;34m,\u001b[0m\u001b[0mself\u001b[0m\u001b[0;34m.\u001b[0m\u001b[0mT\u001b[0m\u001b[0;34m\u001b[0m\u001b[0m\n",
      "\u001b[0;32m/Users/gunesyurdakul/anaconda/lib/python3.5/site-packages/sklearn/manifold/t_sne.py\u001b[0m in \u001b[0;36mfit_transform\u001b[0;34m(self, X, y)\u001b[0m\n\u001b[1;32m    892\u001b[0m             \u001b[0mEmbedding\u001b[0m \u001b[0mof\u001b[0m \u001b[0mthe\u001b[0m \u001b[0mtraining\u001b[0m \u001b[0mdata\u001b[0m \u001b[0;32min\u001b[0m \u001b[0mlow\u001b[0m\u001b[0;34m-\u001b[0m\u001b[0mdimensional\u001b[0m \u001b[0mspace\u001b[0m\u001b[0;34m.\u001b[0m\u001b[0;34m\u001b[0m\u001b[0m\n\u001b[1;32m    893\u001b[0m         \"\"\"\n\u001b[0;32m--> 894\u001b[0;31m         \u001b[0membedding\u001b[0m \u001b[0;34m=\u001b[0m \u001b[0mself\u001b[0m\u001b[0;34m.\u001b[0m\u001b[0m_fit\u001b[0m\u001b[0;34m(\u001b[0m\u001b[0mX\u001b[0m\u001b[0;34m)\u001b[0m\u001b[0;34m\u001b[0m\u001b[0m\n\u001b[0m\u001b[1;32m    895\u001b[0m         \u001b[0mself\u001b[0m\u001b[0;34m.\u001b[0m\u001b[0membedding_\u001b[0m \u001b[0;34m=\u001b[0m \u001b[0membedding\u001b[0m\u001b[0;34m\u001b[0m\u001b[0m\n\u001b[1;32m    896\u001b[0m         \u001b[0;32mreturn\u001b[0m \u001b[0mself\u001b[0m\u001b[0;34m.\u001b[0m\u001b[0membedding_\u001b[0m\u001b[0;34m\u001b[0m\u001b[0m\n",
      "\u001b[0;32m/Users/gunesyurdakul/anaconda/lib/python3.5/site-packages/sklearn/manifold/t_sne.py\u001b[0m in \u001b[0;36m_fit\u001b[0;34m(self, X, skip_num_points)\u001b[0m\n\u001b[1;32m    691\u001b[0m         \u001b[0;32mif\u001b[0m \u001b[0mself\u001b[0m\u001b[0;34m.\u001b[0m\u001b[0mmethod\u001b[0m \u001b[0;34m==\u001b[0m \u001b[0;34m'barnes_hut'\u001b[0m\u001b[0;34m:\u001b[0m\u001b[0;34m\u001b[0m\u001b[0m\n\u001b[1;32m    692\u001b[0m             X = check_array(X, ensure_min_samples=2,\n\u001b[0;32m--> 693\u001b[0;31m                             dtype=[np.float32, np.float64])\n\u001b[0m\u001b[1;32m    694\u001b[0m         \u001b[0;32melse\u001b[0m\u001b[0;34m:\u001b[0m\u001b[0;34m\u001b[0m\u001b[0m\n\u001b[1;32m    695\u001b[0m             X = check_array(X, accept_sparse=['csr', 'csc', 'coo'],\n",
      "\u001b[0;32m/Users/gunesyurdakul/anaconda/lib/python3.5/site-packages/sklearn/utils/validation.py\u001b[0m in \u001b[0;36mcheck_array\u001b[0;34m(array, accept_sparse, accept_large_sparse, dtype, order, copy, force_all_finite, ensure_2d, allow_nd, ensure_min_samples, ensure_min_features, warn_on_dtype, estimator)\u001b[0m\n\u001b[1;32m    575\u001b[0m                              \u001b[0;34m\" minimum of %d is required%s.\"\u001b[0m\u001b[0;34m\u001b[0m\u001b[0m\n\u001b[1;32m    576\u001b[0m                              % (n_samples, shape_repr, ensure_min_samples,\n\u001b[0;32m--> 577\u001b[0;31m                                 context))\n\u001b[0m\u001b[1;32m    578\u001b[0m \u001b[0;34m\u001b[0m\u001b[0m\n\u001b[1;32m    579\u001b[0m     \u001b[0;32mif\u001b[0m \u001b[0mensure_min_features\u001b[0m \u001b[0;34m>\u001b[0m \u001b[0;36m0\u001b[0m \u001b[0;32mand\u001b[0m \u001b[0marray\u001b[0m\u001b[0;34m.\u001b[0m\u001b[0mndim\u001b[0m \u001b[0;34m==\u001b[0m \u001b[0;36m2\u001b[0m\u001b[0;34m:\u001b[0m\u001b[0;34m\u001b[0m\u001b[0m\n",
      "\u001b[0;31mValueError\u001b[0m: Found array with 1 sample(s) (shape=(1, 400)) while a minimum of 2 is required."
     ]
    }
   ],
   "source": [
    "for blocking_key in set(dataset_df['blocking_key']):\n",
    "    print(blocking_key)\n",
    "    entity_resolution_engine.set_model_words_column()\n",
    "    entity_resolution_engine.set_block(blocking_key)\n",
    "    labels,T = entity_resolution_engine.run_TSNE()\n",
    "    entity_resolution_engine.run_DBSCAN(eps_=8, min_samples_=2)\n",
    "    entity_resolution_engine.get_pairs(threshold=0.2)"
   ]
  },
  {
   "cell_type": "code",
   "execution_count": null,
   "metadata": {
    "collapsed": true
   },
   "outputs": [],
   "source": []
  }
 ],
 "metadata": {
  "kernelspec": {
   "display_name": "Python [anaconda]",
   "language": "python",
   "name": "Python [anaconda]"
  },
  "language_info": {
   "codemirror_mode": {
    "name": "ipython",
    "version": 3
   },
   "file_extension": ".py",
   "mimetype": "text/x-python",
   "name": "python",
   "nbconvert_exporter": "python",
   "pygments_lexer": "ipython3",
   "version": "3.5.5"
  }
 },
 "nbformat": 4,
 "nbformat_minor": 2
}
