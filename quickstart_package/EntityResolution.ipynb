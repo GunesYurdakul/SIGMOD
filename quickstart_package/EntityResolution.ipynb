{
 "cells": [
  {
   "cell_type": "code",
   "execution_count": 1,
   "metadata": {},
   "outputs": [
    {
     "name": "stdout",
     "output_type": "stream",
     "text": [
      "[nltk_data] Downloading package stopwords to\n",
      "[nltk_data]     /Users/gunesyurdakul/nltk_data...\n",
      "[nltk_data]   Package stopwords is already up-to-date!\n"
     ]
    }
   ],
   "source": [
    "from EntityResolutionEngine import EntityResolutionEngine as EntityResolutionEngine \n",
    "\n",
    "import main as sigmod\n",
    "import similar_feature_grouping as similar_feature_grouping\n",
    "import helper as helper\n",
    "import pandas as pd"
   ]
  },
  {
   "cell_type": "code",
   "execution_count": 2,
   "metadata": {},
   "outputs": [
    {
     "name": "stderr",
     "output_type": "stream",
     "text": [
      "\r",
      "  0%|          | 0/24 [00:00<?, ?it/s]"
     ]
    },
    {
     "name": "stdout",
     "output_type": "stream",
     "text": [
      ">>> Creating dataframe...\n",
      "\n"
     ]
    },
    {
     "name": "stderr",
     "output_type": "stream",
     "text": [
      "100%|██████████| 24/24 [00:02<00:00,  7.64it/s]\n",
      "441it [00:00, 4404.54it/s]"
     ]
    },
    {
     "name": "stdout",
     "output_type": "stream",
     "text": [
      ">>> Dataframe created successfully!\n",
      "\n",
      ">>> Computing blocking...\n"
     ]
    },
    {
     "name": "stderr",
     "output_type": "stream",
     "text": [
      "29787it [00:05, 5431.10it/s]\n",
      "29787it [00:05, 5045.73it/s]\n"
     ]
    },
    {
     "name": "stdout",
     "output_type": "stream",
     "text": [
      "ended\n",
      ">>> Blocking computed successfully!\n",
      "\n"
     ]
    }
   ],
   "source": [
    "dataset_path=\"../datasets/2013_camera_specs/\"\n",
    "\n",
    "dataset_df = sigmod.create_brand_dataframe(dataset_path)\n",
    "dataset_df = sigmod.compute_brand_blocking(dataset_df)"
   ]
  },
  {
   "cell_type": "code",
   "execution_count": 3,
   "metadata": {},
   "outputs": [
    {
     "data": {
      "text/plain": [
       "297651"
      ]
     },
     "execution_count": 3,
     "metadata": {},
     "output_type": "execute_result"
    }
   ],
   "source": [
    "labelled_df = pd.read_csv('../datasets/sigmod_large_labelled_dataset.csv')\n",
    "same_products = sigmod.grouping_same_products_from_labelled_set(labelled_df)\n",
    "\n",
    "#They all represent the same products\n",
    "len(labelled_df)"
   ]
  },
  {
   "cell_type": "code",
   "execution_count": 4,
   "metadata": {},
   "outputs": [
    {
     "name": "stderr",
     "output_type": "stream",
     "text": [
      "100%|██████████| 24/24 [00:13<00:00,  2.12it/s]\n"
     ]
    }
   ],
   "source": [
    "data_dict=sigmod.get_all_keys_values(dataset_path)\n",
    "dataset_df['all_features'] = dataset_df['spec_id'].apply(lambda x: data_dict[x])"
   ]
  },
  {
   "cell_type": "code",
   "execution_count": 5,
   "metadata": {},
   "outputs": [],
   "source": [
    "dataset_df = dataset_df.set_index('spec_id')"
   ]
  },
  {
   "cell_type": "code",
   "execution_count": 6,
   "metadata": {},
   "outputs": [
    {
     "data": {
      "text/html": [
       "<div>\n",
       "<style scoped>\n",
       "    .dataframe tbody tr th:only-of-type {\n",
       "        vertical-align: middle;\n",
       "    }\n",
       "\n",
       "    .dataframe tbody tr th {\n",
       "        vertical-align: top;\n",
       "    }\n",
       "\n",
       "    .dataframe thead th {\n",
       "        text-align: right;\n",
       "    }\n",
       "</style>\n",
       "<table border=\"1\" class=\"dataframe\">\n",
       "  <thead>\n",
       "    <tr style=\"text-align: right;\">\n",
       "      <th></th>\n",
       "      <th>source</th>\n",
       "      <th>spec_number</th>\n",
       "      <th>page_title</th>\n",
       "      <th>brand</th>\n",
       "      <th>blocking_key</th>\n",
       "      <th>all_features</th>\n",
       "    </tr>\n",
       "    <tr>\n",
       "      <th>spec_id</th>\n",
       "      <th></th>\n",
       "      <th></th>\n",
       "      <th></th>\n",
       "      <th></th>\n",
       "      <th></th>\n",
       "      <th></th>\n",
       "    </tr>\n",
       "  </thead>\n",
       "  <tbody>\n",
       "    <tr>\n",
       "      <th>www.wexphotographic.com//154</th>\n",
       "      <td>www.wexphotographic.com</td>\n",
       "      <td>154</td>\n",
       "      <td>nikon coolpix aw120 digital camera - camouflag...</td>\n",
       "      <td></td>\n",
       "      <td>coolpix</td>\n",
       "      <td>{'the description needs': 'detail', 'please ad...</td>\n",
       "    </tr>\n",
       "    <tr>\n",
       "      <th>www.wexphotographic.com//553</th>\n",
       "      <td>www.wexphotographic.com</td>\n",
       "      <td>553</td>\n",
       "      <td>canon ixus 150 digital camera - red (9148b007a...</td>\n",
       "      <td></td>\n",
       "      <td>canon</td>\n",
       "      <td>{'the description needs': 'detail', 'please ad...</td>\n",
       "    </tr>\n",
       "    <tr>\n",
       "      <th>www.wexphotographic.com//601</th>\n",
       "      <td>www.wexphotographic.com</td>\n",
       "      <td>601</td>\n",
       "      <td>fuji finepix s1 digital camera (p10nc12730a) -...</td>\n",
       "      <td></td>\n",
       "      <td>fujifilm</td>\n",
       "      <td>{'the description needs': 'detail', 'please ad...</td>\n",
       "    </tr>\n",
       "    <tr>\n",
       "      <th>www.wexphotographic.com//197</th>\n",
       "      <td>www.wexphotographic.com</td>\n",
       "      <td>197</td>\n",
       "      <td>nikon coolpix s5300 digital camera - black (vn...</td>\n",
       "      <td></td>\n",
       "      <td>coolpix</td>\n",
       "      <td>{'the description needs': 'detail', 'please ad...</td>\n",
       "    </tr>\n",
       "    <tr>\n",
       "      <th>www.wexphotographic.com//178</th>\n",
       "      <td>www.wexphotographic.com</td>\n",
       "      <td>178</td>\n",
       "      <td>fuji finepix s8600 digital camera - red (p10nc...</td>\n",
       "      <td></td>\n",
       "      <td>fujifilm</td>\n",
       "      <td>{'the description needs': 'detail', 'please ad...</td>\n",
       "    </tr>\n",
       "    <tr>\n",
       "      <th>...</th>\n",
       "      <td>...</td>\n",
       "      <td>...</td>\n",
       "      <td>...</td>\n",
       "      <td>...</td>\n",
       "      <td>...</td>\n",
       "      <td>...</td>\n",
       "    </tr>\n",
       "    <tr>\n",
       "      <th>www.canon-europe.com//23</th>\n",
       "      <td>www.canon-europe.com</td>\n",
       "      <td>23</td>\n",
       "      <td>canon powershot a560 - powershot and ixus digi...</td>\n",
       "      <td></td>\n",
       "      <td>powershot</td>\n",
       "      <td>{'sound memo': '60 sec per image', 'exposure c...</td>\n",
       "    </tr>\n",
       "    <tr>\n",
       "      <th>www.canon-europe.com//74</th>\n",
       "      <td>www.canon-europe.com</td>\n",
       "      <td>74</td>\n",
       "      <td>canon ixus 210 - powershot and ixus digital co...</td>\n",
       "      <td></td>\n",
       "      <td>powershot</td>\n",
       "      <td>{'af point selection': 'size (normal, small)',...</td>\n",
       "    </tr>\n",
       "    <tr>\n",
       "      <th>www.canon-europe.com//62</th>\n",
       "      <td>www.canon-europe.com</td>\n",
       "      <td>62</td>\n",
       "      <td>canon ixus 125 hs - powershot and ixus digital...</td>\n",
       "      <td></td>\n",
       "      <td>powershot</td>\n",
       "      <td>{'af point selection': 'size (normal, small)',...</td>\n",
       "    </tr>\n",
       "    <tr>\n",
       "      <th>www.canon-europe.com//9</th>\n",
       "      <td>www.canon-europe.com</td>\n",
       "      <td>9</td>\n",
       "      <td>canon digital ixus 70 - powershot and ixus dig...</td>\n",
       "      <td></td>\n",
       "      <td>powershot</td>\n",
       "      <td>{'sound memo': '60 sec per image', 'exposure c...</td>\n",
       "    </tr>\n",
       "    <tr>\n",
       "      <th>www.canon-europe.com//35</th>\n",
       "      <td>www.canon-europe.com</td>\n",
       "      <td>35</td>\n",
       "      <td>canon digital ixus 90 is - powershot and ixus ...</td>\n",
       "      <td></td>\n",
       "      <td>powershot</td>\n",
       "      <td>{'af point selection': 'size (normal, small)',...</td>\n",
       "    </tr>\n",
       "  </tbody>\n",
       "</table>\n",
       "<p>33548 rows × 6 columns</p>\n",
       "</div>"
      ],
      "text/plain": [
       "                                               source spec_number  \\\n",
       "spec_id                                                             \n",
       "www.wexphotographic.com//154  www.wexphotographic.com         154   \n",
       "www.wexphotographic.com//553  www.wexphotographic.com         553   \n",
       "www.wexphotographic.com//601  www.wexphotographic.com         601   \n",
       "www.wexphotographic.com//197  www.wexphotographic.com         197   \n",
       "www.wexphotographic.com//178  www.wexphotographic.com         178   \n",
       "...                                               ...         ...   \n",
       "www.canon-europe.com//23         www.canon-europe.com          23   \n",
       "www.canon-europe.com//74         www.canon-europe.com          74   \n",
       "www.canon-europe.com//62         www.canon-europe.com          62   \n",
       "www.canon-europe.com//9          www.canon-europe.com           9   \n",
       "www.canon-europe.com//35         www.canon-europe.com          35   \n",
       "\n",
       "                                                                     page_title  \\\n",
       "spec_id                                                                           \n",
       "www.wexphotographic.com//154  nikon coolpix aw120 digital camera - camouflag...   \n",
       "www.wexphotographic.com//553  canon ixus 150 digital camera - red (9148b007a...   \n",
       "www.wexphotographic.com//601  fuji finepix s1 digital camera (p10nc12730a) -...   \n",
       "www.wexphotographic.com//197  nikon coolpix s5300 digital camera - black (vn...   \n",
       "www.wexphotographic.com//178  fuji finepix s8600 digital camera - red (p10nc...   \n",
       "...                                                                         ...   \n",
       "www.canon-europe.com//23      canon powershot a560 - powershot and ixus digi...   \n",
       "www.canon-europe.com//74      canon ixus 210 - powershot and ixus digital co...   \n",
       "www.canon-europe.com//62      canon ixus 125 hs - powershot and ixus digital...   \n",
       "www.canon-europe.com//9       canon digital ixus 70 - powershot and ixus dig...   \n",
       "www.canon-europe.com//35      canon digital ixus 90 is - powershot and ixus ...   \n",
       "\n",
       "                             brand blocking_key  \\\n",
       "spec_id                                           \n",
       "www.wexphotographic.com//154            coolpix   \n",
       "www.wexphotographic.com//553              canon   \n",
       "www.wexphotographic.com//601           fujifilm   \n",
       "www.wexphotographic.com//197            coolpix   \n",
       "www.wexphotographic.com//178           fujifilm   \n",
       "...                            ...          ...   \n",
       "www.canon-europe.com//23              powershot   \n",
       "www.canon-europe.com//74              powershot   \n",
       "www.canon-europe.com//62              powershot   \n",
       "www.canon-europe.com//9               powershot   \n",
       "www.canon-europe.com//35              powershot   \n",
       "\n",
       "                                                                   all_features  \n",
       "spec_id                                                                          \n",
       "www.wexphotographic.com//154  {'the description needs': 'detail', 'please ad...  \n",
       "www.wexphotographic.com//553  {'the description needs': 'detail', 'please ad...  \n",
       "www.wexphotographic.com//601  {'the description needs': 'detail', 'please ad...  \n",
       "www.wexphotographic.com//197  {'the description needs': 'detail', 'please ad...  \n",
       "www.wexphotographic.com//178  {'the description needs': 'detail', 'please ad...  \n",
       "...                                                                         ...  \n",
       "www.canon-europe.com//23      {'sound memo': '60 sec per image', 'exposure c...  \n",
       "www.canon-europe.com//74      {'af point selection': 'size (normal, small)',...  \n",
       "www.canon-europe.com//62      {'af point selection': 'size (normal, small)',...  \n",
       "www.canon-europe.com//9       {'sound memo': '60 sec per image', 'exposure c...  \n",
       "www.canon-europe.com//35      {'af point selection': 'size (normal, small)',...  \n",
       "\n",
       "[33548 rows x 6 columns]"
      ]
     },
     "execution_count": 6,
     "metadata": {},
     "output_type": "execute_result"
    }
   ],
   "source": [
    "dataset_df"
   ]
  },
  {
   "cell_type": "code",
   "execution_count": 7,
   "metadata": {
    "collapsed": true
   },
   "outputs": [],
   "source": [
    "from gensim.models import Word2Vec"
   ]
  },
  {
   "cell_type": "code",
   "execution_count": null,
   "metadata": {},
   "outputs": [],
   "source": [
    "#run this only if you don't have the pretrained model \n",
    "all_text=similar_feature_grouping.prepare_text_for_word2vec(data_dict)\n",
    "emb_dim=200\n",
    "model = Word2Vec(all_text, size=emb_dim, window=5, min_count=1, workers=4)\n",
    "model.train(all_text,total_examples=model.corpus_count,epochs=model.epochs)\n",
    "model.save('word2vec_200_features')"
   ]
  },
  {
   "cell_type": "code",
   "execution_count": 8,
   "metadata": {},
   "outputs": [],
   "source": [
    "model= Word2Vec.load('word2vec_200_features')"
   ]
  },
  {
   "cell_type": "markdown",
   "metadata": {},
   "source": [
    "****"
   ]
  },
  {
   "cell_type": "code",
   "execution_count": 9,
   "metadata": {},
   "outputs": [],
   "source": [
    "entity_resolution_engine = EntityResolutionEngine(model,dataset_df,labelled_df)\n",
    "entity_resolution_engine.set_model_words_column()"
   ]
  },
  {
   "cell_type": "markdown",
   "metadata": {},
   "source": [
    "****"
   ]
  },
  {
   "cell_type": "markdown",
   "metadata": {},
   "source": [
    "# Experimenting on Results for Each Block"
   ]
  },
  {
   "cell_type": "code",
   "execution_count": null,
   "metadata": {
    "collapsed": true
   },
   "outputs": [],
   "source": [
    "blocking_key='panasonic'"
   ]
  },
  {
   "cell_type": "code",
   "execution_count": null,
   "metadata": {},
   "outputs": [
    {
     "name": "stderr",
     "output_type": "stream",
     "text": [
      "/Users/gunesyurdakul/Desktop/EPFL-Spring2020/Database systems/comp/quickstart_package 2/quickstart_package/EntityResolutionEngine.py:68: SettingWithCopyWarning: \n",
      "A value is trying to be set on a copy of a slice from a DataFrame.\n",
      "Try using .loc[row_indexer,col_indexer] = value instead\n",
      "\n",
      "See the caveats in the documentation: http://pandas.pydata.org/pandas-docs/stable/user_guide/indexing.html#returning-a-view-versus-a-copy\n",
      "  self.block_df['concat_wordvector']=''\n"
     ]
    }
   ],
   "source": [
    "entity_resolution_engine.set_block(blocking_key)"
   ]
  },
  {
   "cell_type": "code",
   "execution_count": null,
   "metadata": {},
   "outputs": [],
   "source": [
    "pd.set_option('display.max_columns', None)\n",
    "pd.set_option('display.max_rows', 500)\n",
    "len(entity_resolution_engine.block_df)"
   ]
  },
  {
   "cell_type": "markdown",
   "metadata": {},
   "source": [
    "### DIMENSIONALITY REDUCTION AND CLUSTERING"
   ]
  },
  {
   "cell_type": "code",
   "execution_count": null,
   "metadata": {},
   "outputs": [],
   "source": [
    "labels,T = entity_resolution_engine.run_TSNE()\n",
    "entity_resolution_engine.run_DBSCAN(eps_=3, min_samples_=3)"
   ]
  },
  {
   "cell_type": "markdown",
   "metadata": {},
   "source": [
    "****"
   ]
  },
  {
   "cell_type": "code",
   "execution_count": null,
   "metadata": {},
   "outputs": [],
   "source": [
    "import matplotlib.pyplot as plt\n",
    "plt.figure(figsize=(30,20))\n",
    "plt.scatter(T[:,0], T[:,1], c=entity_resolution_engine.assigned_clusters, cmap='hsv')\n",
    "\n",
    "for label, x, y in zip(labels, T[:, 0], T[:, 1]):\n",
    "    plt.annotate(label, xy=(x+1, y+1), xytext=(0, 0), textcoords='offset points')"
   ]
  },
  {
   "cell_type": "code",
   "execution_count": null,
   "metadata": {
    "scrolled": true
   },
   "outputs": [],
   "source": [
    "plt.show()"
   ]
  },
  {
   "cell_type": "code",
   "execution_count": null,
   "metadata": {},
   "outputs": [],
   "source": [
    "entity_resolution_engine.get_pairs(threshold=0.2)"
   ]
  },
  {
   "cell_type": "code",
   "execution_count": null,
   "metadata": {},
   "outputs": [],
   "source": [
    "pairs"
   ]
  },
  {
   "cell_type": "code",
   "execution_count": null,
   "metadata": {
    "collapsed": true
   },
   "outputs": [],
   "source": []
  },
  {
   "cell_type": "code",
   "execution_count": null,
   "metadata": {
    "collapsed": true
   },
   "outputs": [],
   "source": []
  },
  {
   "cell_type": "code",
   "execution_count": null,
   "metadata": {
    "collapsed": true
   },
   "outputs": [],
   "source": []
  }
 ],
 "metadata": {
  "kernelspec": {
   "display_name": "Python [anaconda]",
   "language": "python",
   "name": "Python [anaconda]"
  },
  "language_info": {
   "codemirror_mode": {
    "name": "ipython",
    "version": 3
   },
   "file_extension": ".py",
   "mimetype": "text/x-python",
   "name": "python",
   "nbconvert_exporter": "python",
   "pygments_lexer": "ipython3",
   "version": "3.5.5"
  }
 },
 "nbformat": 4,
 "nbformat_minor": 2
}
