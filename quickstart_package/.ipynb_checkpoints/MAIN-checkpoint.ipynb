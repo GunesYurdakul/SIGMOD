{
 "cells": [
  {
   "cell_type": "code",
   "execution_count": 1,
   "metadata": {},
   "outputs": [],
   "source": [
    "from EntityResolutionEngine import EntityResolutionEngine as EntityResolutionEngine \n",
    "import helper as helper\n",
    "import pandas as pd\n",
    "import warnings\n",
    "import preprocessing as preprocessor\n",
    "warnings.filterwarnings('ignore')"
   ]
  },
  {
   "cell_type": "code",
   "execution_count": 2,
   "metadata": {
    "collapsed": true
   },
   "outputs": [],
   "source": [
    "dataset_path='../datasets/2013_camera_specs/'     \n",
    "labelled_path='../datasets/sigmod_large_labelled_dataset.csv'\n",
    "output_file_name='../datasets/output'\n",
    "use_labelled_set=True\n",
    "similarity_threshold=10"
   ]
  },
  {
   "cell_type": "code",
   "execution_count": null,
   "metadata": {},
   "outputs": [
    {
     "name": "stderr",
     "output_type": "stream",
     "text": [
      "  8%|▊         | 2/24 [00:00<00:01, 15.88it/s]"
     ]
    },
    {
     "name": "stdout",
     "output_type": "stream",
     "text": [
      "Creating df\n",
      ">>> Creating dataframe...\n",
      "\n"
     ]
    },
    {
     "name": "stderr",
     "output_type": "stream",
     "text": [
      " 75%|███████▌  | 18/24 [00:02<00:00,  9.48it/s]"
     ]
    }
   ],
   "source": [
    "dataset_df = preprocessor.create_brand_dataframe(dataset_path)\n",
    "dataset_df = dataset_df.set_index('spec_id')\n",
    "labelled_df = pd.read_csv(labelled_path)"
   ]
  },
  {
   "cell_type": "code",
   "execution_count": null,
   "metadata": {},
   "outputs": [],
   "source": [
    "labelled_df = pd.read_csv('../datasets/sigmod_large_labelled_dataset.csv')"
   ]
  },
  {
   "cell_type": "code",
   "execution_count": null,
   "metadata": {},
   "outputs": [],
   "source": [
    "dataset_df = preprocessor.compute_brand_blocking(dataset_df)\n",
    "entity_resolution_engine = EntityResolutionEngine(dataset_df,labelled_df)"
   ]
  },
  {
   "cell_type": "code",
   "execution_count": null,
   "metadata": {},
   "outputs": [],
   "source": [
    "entity_resolution_engine.get_model_names()"
   ]
  },
  {
   "cell_type": "code",
   "execution_count": null,
   "metadata": {
    "scrolled": false
   },
   "outputs": [],
   "source": [
    "entity_resolution_engine.compute_model_name_blocking()"
   ]
  },
  {
   "cell_type": "code",
   "execution_count": null,
   "metadata": {
    "scrolled": true
   },
   "outputs": [],
   "source": [
    "pd.set_option('display.max_rows', 4838)\n",
    "\n",
    "model_groups = entity_resolution_engine.dataset_df.groupby('model_name')\n",
    "a=model_groups.size()\n",
    "a"
   ]
  },
  {
   "cell_type": "code",
   "execution_count": null,
   "metadata": {},
   "outputs": [],
   "source": [
    "entity_resolution_engine.model_names['olympus']"
   ]
  },
  {
   "cell_type": "code",
   "execution_count": null,
   "metadata": {
    "collapsed": true
   },
   "outputs": [],
   "source": [
    "run_on_labelled_set=True"
   ]
  },
  {
   "cell_type": "code",
   "execution_count": null,
   "metadata": {
    "scrolled": true
   },
   "outputs": [],
   "source": [
    "entity_resolution_engine.get_pairs(threshold=similarity_threshold,labelled_set=use_labelled_set)"
   ]
  },
  {
   "cell_type": "code",
   "execution_count": null,
   "metadata": {},
   "outputs": [],
   "source": [
    "if run_on_labelled_set:\n",
    "    precision,recall,f_measure,incorrect_pairs = entity_resolution_engine.calculate_f_measure()\n",
    "    print('Precision:', precision,'Recall:', recall,'F-measure: ',f_measure)"
   ]
  },
  {
   "cell_type": "code",
   "execution_count": null,
   "metadata": {},
   "outputs": [],
   "source": [
    "entity_resolution_engine.output_df[['left_spec_id','right_spec_id']].to_csv(output_file_name+'.csv')"
   ]
  },
  {
   "cell_type": "code",
   "execution_count": null,
   "metadata": {
    "scrolled": false
   },
   "outputs": [],
   "source": [
    "a=entity_resolution_engine.dataset_df.groupby('model_name')\n",
    "a.get_group('powershot ixus ')"
   ]
  },
  {
   "cell_type": "code",
   "execution_count": null,
   "metadata": {
    "collapsed": true
   },
   "outputs": [],
   "source": [
    "a.get_group('').groupby('blocking_key').get_group('sony')"
   ]
  },
  {
   "cell_type": "code",
   "execution_count": null,
   "metadata": {
    "collapsed": true
   },
   "outputs": [],
   "source": []
  },
  {
   "cell_type": "code",
   "execution_count": null,
   "metadata": {
    "collapsed": true
   },
   "outputs": [],
   "source": []
  }
 ],
 "metadata": {
  "kernelspec": {
   "display_name": "Python [anaconda]",
   "language": "python",
   "name": "Python [anaconda]"
  },
  "language_info": {
   "codemirror_mode": {
    "name": "ipython",
    "version": 3
   },
   "file_extension": ".py",
   "mimetype": "text/x-python",
   "name": "python",
   "nbconvert_exporter": "python",
   "pygments_lexer": "ipython3",
   "version": "3.5.5"
  }
 },
 "nbformat": 4,
 "nbformat_minor": 2
}
