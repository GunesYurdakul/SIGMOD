{
 "cells": [
  {
   "cell_type": "code",
   "execution_count": 1,
   "metadata": {},
   "outputs": [
    {
     "name": "stdout",
     "output_type": "stream",
     "text": [
      "[nltk_data] Downloading package stopwords to\n",
      "[nltk_data]     /Users/gunesyurdakul/nltk_data...\n",
      "[nltk_data]   Package stopwords is already up-to-date!\n"
     ]
    }
   ],
   "source": [
    "import pandas as pd\n",
    "import numpy as np\n",
    "import main as sigmod\n",
    "import similar_feature_grouping as similar_feature_grouping\n",
    "import helper as helper"
   ]
  },
  {
   "cell_type": "code",
   "execution_count": 2,
   "metadata": {
    "collapsed": true
   },
   "outputs": [],
   "source": [
    "dataset_path=\"../datasets/2013_camera_specs/\""
   ]
  },
  {
   "cell_type": "code",
   "execution_count": 3,
   "metadata": {},
   "outputs": [
    {
     "name": "stderr",
     "output_type": "stream",
     "text": [
      "\r",
      "  0%|          | 0/24 [00:00<?, ?it/s]"
     ]
    },
    {
     "name": "stdout",
     "output_type": "stream",
     "text": [
      ">>> Creating dataframe...\n",
      "\n"
     ]
    },
    {
     "name": "stderr",
     "output_type": "stream",
     "text": [
      "100%|██████████| 24/24 [00:02<00:00, 10.02it/s]\n",
      "463it [00:00, 4623.20it/s]"
     ]
    },
    {
     "name": "stdout",
     "output_type": "stream",
     "text": [
      ">>> Dataframe created successfully!\n",
      "\n",
      ">>> Computing blocking...\n"
     ]
    },
    {
     "name": "stderr",
     "output_type": "stream",
     "text": [
      "29787it [00:04, 6018.69it/s]\n"
     ]
    },
    {
     "name": "stdout",
     "output_type": "stream",
     "text": [
      "ended\n",
      ">>> Blocking computed successfully!\n",
      "\n"
     ]
    }
   ],
   "source": [
    "dataset_df = sigmod.create_brand_dataframe(dataset_path)\n",
    "dataset_df = sigmod.compute_brand_blocking(dataset_df)\n",
    "#pairs_df = sigmod.get_block_pairs_df(dataset_df)"
   ]
  },
  {
   "cell_type": "markdown",
   "metadata": {},
   "source": [
    "### GROUPING SAME PRODUCTS FROM LABELLED SET"
   ]
  },
  {
   "cell_type": "code",
   "execution_count": 4,
   "metadata": {
    "collapsed": true
   },
   "outputs": [],
   "source": [
    "labelled_df = pd.read_csv('../datasets/sigmod_large_labelled_dataset.csv')"
   ]
  },
  {
   "cell_type": "code",
   "execution_count": 5,
   "metadata": {
    "collapsed": true
   },
   "outputs": [],
   "source": [
    "same_products = sigmod.grouping_same_products_from_labelled_set(labelled_df)"
   ]
  },
  {
   "cell_type": "code",
   "execution_count": 6,
   "metadata": {
    "scrolled": false
   },
   "outputs": [
    {
     "data": {
      "text/plain": [
       "['www.ebay.com//55354',\n",
       " 'www.ebay.com//53297',\n",
       " 'www.pricedekho.com//1220',\n",
       " 'www.ebay.com//43368',\n",
       " 'www.ebay.com//47315',\n",
       " 'www.ebay.com//45475',\n",
       " 'www.ebay.com//55847',\n",
       " 'www.ebay.com//43645',\n",
       " 'www.ebay.com//44639',\n",
       " 'www.ebay.com//48983',\n",
       " 'www.ebay.com//46258',\n",
       " 'www.ebay.com//47981',\n",
       " 'www.ebay.com//59659',\n",
       " 'www.ebay.com//44533',\n",
       " 'www.ebay.com//60633',\n",
       " 'www.ebay.com//48936',\n",
       " 'www.ebay.com//45136',\n",
       " 'www.ebay.com//56287',\n",
       " 'www.ebay.com//44475',\n",
       " 'www.ebay.com//46766',\n",
       " 'www.ebay.com//58785',\n",
       " 'www.ebay.com//46021',\n",
       " 'www.ebay.com//52765',\n",
       " 'www.ebay.com//43738',\n",
       " 'www.ebay.com//46558',\n",
       " 'www.gosale.com//1468',\n",
       " 'www.ebay.com//58806',\n",
       " 'www.ebay.com//44205',\n",
       " 'www.ebay.com//46290',\n",
       " 'www.ebay.com//59145',\n",
       " 'www.ebay.com//57427',\n",
       " 'www.ebay.com//54572',\n",
       " 'www.ebay.com//56670',\n",
       " 'www.ebay.com//47901',\n",
       " 'www.ebay.com//56105',\n",
       " 'www.ebay.com//46388',\n",
       " 'www.ebay.com//55784',\n",
       " 'www.ebay.com//56154',\n",
       " 'www.ebay.com//45683',\n",
       " 'www.ebay.com//43951',\n",
       " 'www.ebay.com//48527',\n",
       " 'www.ebay.com//54919',\n",
       " 'www.ebay.com//42204',\n",
       " 'www.ebay.com//44627',\n",
       " 'www.ebay.com//53233',\n",
       " 'www.ebay.com//60232',\n",
       " 'www.ebay.com//47843',\n",
       " 'www.gosale.com//1400',\n",
       " 'www.ebay.com//58823',\n",
       " 'www.gosale.com//1188',\n",
       " 'www.ebay.com//43297',\n",
       " 'www.ebay.com//60064',\n",
       " 'www.ebay.com//53077',\n",
       " 'www.ebay.com//47883',\n",
       " 'www.ebay.com//54794',\n",
       " 'www.gosale.com//794',\n",
       " 'www.ebay.com//55631',\n",
       " 'www.shopmania.in//1173',\n",
       " 'www.ebay.com//56008',\n",
       " 'www.ebay.com//53601',\n",
       " 'www.ebay.com//44362',\n",
       " 'www.ebay.com//44111',\n",
       " 'www.ebay.com//42033',\n",
       " 'www.ebay.com//43340',\n",
       " 'www.ebay.com//42094',\n",
       " 'www.ebay.com//45818',\n",
       " 'www.ebay.com//54736',\n",
       " 'www.ebay.com//42347',\n",
       " 'www.ebay.com//55565',\n",
       " 'www.ebay.com//56179',\n",
       " 'www.ebay.com//48173',\n",
       " 'www.ebay.com//60397',\n",
       " 'www.ebay.com//59027',\n",
       " 'www.ebay.com//53417',\n",
       " 'www.ebay.com//47716',\n",
       " 'www.ebay.com//53087',\n",
       " 'www.ebay.com//55373',\n",
       " 'www.shopmania.in//1643',\n",
       " 'www.ebay.com//46917',\n",
       " 'www.ebay.com//55289',\n",
       " 'www.ebay.com//56208',\n",
       " 'www.ebay.com//43907',\n",
       " 'www.pricedekho.com//760',\n",
       " 'www.ebay.com//45742',\n",
       " 'www.ebay.com//48146',\n",
       " 'www.ebay.com//47074',\n",
       " 'www.ebay.com//48245',\n",
       " 'www.shopbot.com.au//390',\n",
       " 'www.ebay.com//55491',\n",
       " 'www.ebay.com//56133',\n",
       " 'www.buzzillions.com//2719',\n",
       " 'www.ebay.com//54063',\n",
       " 'www.ebay.com//44316',\n",
       " 'www.ebay.com//47000',\n",
       " 'www.ebay.com//57005']"
      ]
     },
     "execution_count": 6,
     "metadata": {},
     "output_type": "execute_result"
    }
   ],
   "source": [
    "#They all represent the same products\n",
    "same_products[4]"
   ]
  },
  {
   "cell_type": "markdown",
   "metadata": {},
   "source": [
    "### GET ALL KEYS and values"
   ]
  },
  {
   "cell_type": "code",
   "execution_count": 7,
   "metadata": {},
   "outputs": [
    {
     "name": "stderr",
     "output_type": "stream",
     "text": [
      "100%|██████████| 24/24 [00:02<00:00,  7.52it/s]\n"
     ]
    }
   ],
   "source": [
    "data_dict=sigmod.get_all_keys_values(dataset_path)\n",
    "dataset_df['all_features'] = dataset_df['spec_id'].apply(lambda x: data_dict[x])"
   ]
  },
  {
   "cell_type": "code",
   "execution_count": null,
   "metadata": {},
   "outputs": [
    {
     "data": {
      "text/html": [
       "<div>\n",
       "<style scoped>\n",
       "    .dataframe tbody tr th:only-of-type {\n",
       "        vertical-align: middle;\n",
       "    }\n",
       "\n",
       "    .dataframe tbody tr th {\n",
       "        vertical-align: top;\n",
       "    }\n",
       "\n",
       "    .dataframe thead th {\n",
       "        text-align: right;\n",
       "    }\n",
       "</style>\n",
       "<table border=\"1\" class=\"dataframe\">\n",
       "  <thead>\n",
       "    <tr style=\"text-align: right;\">\n",
       "      <th></th>\n",
       "      <th>source</th>\n",
       "      <th>spec_number</th>\n",
       "      <th>spec_id</th>\n",
       "      <th>page_title</th>\n",
       "      <th>brand</th>\n",
       "      <th>blocking_key</th>\n",
       "      <th>all_features</th>\n",
       "    </tr>\n",
       "  </thead>\n",
       "  <tbody>\n",
       "    <tr>\n",
       "      <th>0</th>\n",
       "      <td>www.wexphotographic.com</td>\n",
       "      <td>154</td>\n",
       "      <td>www.wexphotographic.com//154</td>\n",
       "      <td>nikon coolpix aw120 digital camera - camouflag...</td>\n",
       "      <td></td>\n",
       "      <td>[coolpix]</td>\n",
       "      <td>{'colour': 'Camouflage', 'movie mode': '1080p ...</td>\n",
       "    </tr>\n",
       "    <tr>\n",
       "      <th>1</th>\n",
       "      <td>www.wexphotographic.com</td>\n",
       "      <td>553</td>\n",
       "      <td>www.wexphotographic.com//553</td>\n",
       "      <td>canon ixus 150 digital camera - red (9148b007a...</td>\n",
       "      <td></td>\n",
       "      <td>[canon]</td>\n",
       "      <td>{'colour': 'Red', 'face detection technology':...</td>\n",
       "    </tr>\n",
       "    <tr>\n",
       "      <th>2</th>\n",
       "      <td>www.wexphotographic.com</td>\n",
       "      <td>601</td>\n",
       "      <td>www.wexphotographic.com//601</td>\n",
       "      <td>fuji finepix s1 digital camera (p10nc12730a) -...</td>\n",
       "      <td></td>\n",
       "      <td>[fujifilm]</td>\n",
       "      <td>{'colour': 'Black', 'face detection technology...</td>\n",
       "    </tr>\n",
       "    <tr>\n",
       "      <th>3</th>\n",
       "      <td>www.wexphotographic.com</td>\n",
       "      <td>197</td>\n",
       "      <td>www.wexphotographic.com//197</td>\n",
       "      <td>nikon coolpix s5300 digital camera - black (vn...</td>\n",
       "      <td></td>\n",
       "      <td>[coolpix]</td>\n",
       "      <td>{'colour': 'Black', 'face detection technology...</td>\n",
       "    </tr>\n",
       "    <tr>\n",
       "      <th>4</th>\n",
       "      <td>www.wexphotographic.com</td>\n",
       "      <td>178</td>\n",
       "      <td>www.wexphotographic.com//178</td>\n",
       "      <td>fuji finepix s8600 digital camera - red (p10nc...</td>\n",
       "      <td></td>\n",
       "      <td>[fujifilm]</td>\n",
       "      <td>{'colour': 'Red', 'face detection technology':...</td>\n",
       "    </tr>\n",
       "  </tbody>\n",
       "</table>\n",
       "</div>"
      ],
      "text/plain": [
       "                    source spec_number                       spec_id  \\\n",
       "0  www.wexphotographic.com         154  www.wexphotographic.com//154   \n",
       "1  www.wexphotographic.com         553  www.wexphotographic.com//553   \n",
       "2  www.wexphotographic.com         601  www.wexphotographic.com//601   \n",
       "3  www.wexphotographic.com         197  www.wexphotographic.com//197   \n",
       "4  www.wexphotographic.com         178  www.wexphotographic.com//178   \n",
       "\n",
       "                                          page_title brand blocking_key  \\\n",
       "0  nikon coolpix aw120 digital camera - camouflag...          [coolpix]   \n",
       "1  canon ixus 150 digital camera - red (9148b007a...            [canon]   \n",
       "2  fuji finepix s1 digital camera (p10nc12730a) -...         [fujifilm]   \n",
       "3  nikon coolpix s5300 digital camera - black (vn...          [coolpix]   \n",
       "4  fuji finepix s8600 digital camera - red (p10nc...         [fujifilm]   \n",
       "\n",
       "                                        all_features  \n",
       "0  {'colour': 'Camouflage', 'movie mode': '1080p ...  \n",
       "1  {'colour': 'Red', 'face detection technology':...  \n",
       "2  {'colour': 'Black', 'face detection technology...  \n",
       "3  {'colour': 'Black', 'face detection technology...  \n",
       "4  {'colour': 'Red', 'face detection technology':...  "
      ]
     },
     "execution_count": 8,
     "metadata": {},
     "output_type": "execute_result"
    }
   ],
   "source": [
    "dataset_df.head()"
   ]
  },
  {
   "cell_type": "code",
   "execution_count": null,
   "metadata": {},
   "outputs": [],
   "source": [
    "all_text=similar_feature_grouping.prepare_text_for_word2vec(data_dict)"
   ]
  },
  {
   "cell_type": "code",
   "execution_count": null,
   "metadata": {
    "collapsed": true
   },
   "outputs": [],
   "source": [
    "from gensim.models import Word2Vec"
   ]
  },
  {
   "cell_type": "code",
   "execution_count": null,
   "metadata": {},
   "outputs": [],
   "source": [
    "emb_dim=200\n",
    "model = Word2Vec(all_text, size=emb_dim, window=5, min_count=1, workers=4)\n",
    "model.train(all_text,total_examples=model.corpus_count,epochs=model.epochs)"
   ]
  },
  {
   "cell_type": "code",
   "execution_count": null,
   "metadata": {},
   "outputs": [],
   "source": [
    "model.most_similar('supply ability')"
   ]
  },
  {
   "cell_type": "code",
   "execution_count": null,
   "metadata": {
    "collapsed": true
   },
   "outputs": [],
   "source": [
    "model.save('word2vec_200_features')"
   ]
  },
  {
   "cell_type": "markdown",
   "metadata": {},
   "source": [
    "### GROUPING FEATURES"
   ]
  },
  {
   "cell_type": "code",
   "execution_count": null,
   "metadata": {
    "collapsed": true
   },
   "outputs": [],
   "source": [
    "all_features={}\n",
    "for features in data_dict.values():\n",
    "    for feature in features.keys():\n",
    "        if feature not in all_features.keys():\n",
    "            all_features[feature]=0            \n",
    "        all_features[feature]+=1"
   ]
  },
  {
   "cell_type": "code",
   "execution_count": null,
   "metadata": {
    "collapsed": true
   },
   "outputs": [],
   "source": [
    "all_features_filtered=[feature for feature,count in all_features.items() if count>200]"
   ]
  },
  {
   "cell_type": "code",
   "execution_count": null,
   "metadata": {},
   "outputs": [],
   "source": [
    "len(all_features_filtered)"
   ]
  },
  {
   "cell_type": "markdown",
   "metadata": {},
   "source": [
    "### CLUSTERING"
   ]
  },
  {
   "cell_type": "code",
   "execution_count": null,
   "metadata": {
    "collapsed": true
   },
   "outputs": [],
   "source": [
    "model= Word2Vec.load('word2vec_200_features')\n",
    "words = all_features_filtered\n",
    "wvs = model.wv[words]\n"
   ]
  },
  {
   "cell_type": "code",
   "execution_count": null,
   "metadata": {},
   "outputs": [],
   "source": [
    "wvs.shape"
   ]
  },
  {
   "cell_type": "markdown",
   "metadata": {},
   "source": [
    "### TSNE"
   ]
  },
  {
   "cell_type": "code",
   "execution_count": null,
   "metadata": {
    "collapsed": true
   },
   "outputs": [],
   "source": [
    "# visualize embeddings\n",
    "from sklearn.manifold import TSNE\n",
    "\n",
    "tsne = TSNE(n_components=2, random_state=0, n_iter=1000, perplexity=20)\n",
    "np.set_printoptions(suppress=True)\n",
    "T = tsne.fit_transform(wvs)\n",
    "labels = words\n",
    "\n"
   ]
  },
  {
   "cell_type": "code",
   "execution_count": null,
   "metadata": {
    "collapsed": true
   },
   "outputs": [],
   "source": [
    "import matplotlib.pyplot as plt\n",
    "plt.figure(figsize=(20, 20))\n",
    "plt.scatter(T[:, 0], T[:, 1], c='orange', edgecolors='r')\n",
    "for label, x, y in zip(labels, T[:, 0], T[:, 1]):\n",
    "    plt.annotate(label, xy=(x+1, y+1), xytext=(0, 0), textcoords='offset points')"
   ]
  },
  {
   "cell_type": "code",
   "execution_count": null,
   "metadata": {},
   "outputs": [],
   "source": [
    "plt.show()"
   ]
  },
  {
   "cell_type": "code",
   "execution_count": null,
   "metadata": {},
   "outputs": [],
   "source": [
    "T.shape"
   ]
  },
  {
   "cell_type": "markdown",
   "metadata": {},
   "source": [
    "#### KMeans"
   ]
  },
  {
   "cell_type": "code",
   "execution_count": null,
   "metadata": {
    "collapsed": true
   },
   "outputs": [],
   "source": [
    "from nltk.cluster import KMeansClusterer\n",
    "import nltk\n",
    "%matplotlib inline"
   ]
  },
  {
   "cell_type": "code",
   "execution_count": null,
   "metadata": {
    "collapsed": true
   },
   "outputs": [],
   "source": [
    "NUM_CLUSTERS=50\n",
    "kclusterer = KMeansClusterer(NUM_CLUSTERS, distance=nltk.cluster.util.cosine_distance, avoid_empty_clusters=True,repeats=25)\n",
    "assigned_clusters = kclusterer.cluster(T, assign_clusters=True)"
   ]
  },
  {
   "cell_type": "code",
   "execution_count": null,
   "metadata": {
    "collapsed": true
   },
   "outputs": [],
   "source": []
  },
  {
   "cell_type": "code",
   "execution_count": null,
   "metadata": {
    "scrolled": false
   },
   "outputs": [],
   "source": [
    "plt.figure(figsize=(30,20))\n",
    "plt.scatter(T[:,0], T[:,1], c=assigned_clusters, cmap='hsv')\n",
    "plt.scatter(np.array(kclusterer.means())[:,0], np.array(kclusterer.means())[:,1], marker='+', cmap='hsv')\n",
    "\n",
    "for label, x, y in zip(labels, T[:, 0], T[:, 1]):\n",
    "    plt.annotate(label, xy=(x+1, y+1), xytext=(0, 0), textcoords='offset points')"
   ]
  },
  {
   "cell_type": "code",
   "execution_count": null,
   "metadata": {},
   "outputs": [],
   "source": [
    "dataset_df,cluster2features = similar_feature_grouping.get_grouped_features(dataset_df,assigned_clusters,labels)"
   ]
  },
  {
   "cell_type": "code",
   "execution_count": null,
   "metadata": {
    "collapsed": true
   },
   "outputs": [],
   "source": [
    "dataset_df = dataset_df.set_index('spec_id')"
   ]
  },
  {
   "cell_type": "code",
   "execution_count": null,
   "metadata": {
    "scrolled": true
   },
   "outputs": [],
   "source": [
    "pd.set_option('display.max_columns', None)\n",
    "pd.set_option('display.max_rows', 500)\n",
    "dataset_df.loc[same_products[3]]"
   ]
  },
  {
   "cell_type": "markdown",
   "metadata": {},
   "source": [
    "# FOR A SINGLE BLOCK - Nikon"
   ]
  },
  {
   "cell_type": "code",
   "execution_count": null,
   "metadata": {
    "scrolled": true
   },
   "outputs": [],
   "source": [
    "dataset_df.head(50)\n",
    "blocking_key=\"polaroid\"\n",
    "dataset_df = dataset_df.explode('blocking_key')\n",
    "grouped_df = dataset_df.groupby(['blocking_key'])\n",
    "block_df = grouped_df.get_group(blocking_key)"
   ]
  },
  {
   "cell_type": "code",
   "execution_count": null,
   "metadata": {
    "collapsed": true
   },
   "outputs": [],
   "source": [
    "len(block_df)"
   ]
  },
  {
   "cell_type": "code",
   "execution_count": null,
   "metadata": {},
   "outputs": [],
   "source": [
    "global counter\n",
    "counter=0\n",
    "block_df['page_title_sim']=\"\""
   ]
  },
  {
   "cell_type": "code",
   "execution_count": null,
   "metadata": {},
   "outputs": [],
   "source": [
    "def get_sim_among_col(x,column_data):\n",
    "    sim_array=np.zeros(len(column_data))\n",
    "    i=0\n",
    "    global counter\n",
    "    for cell_data in column_data.values:\n",
    "        sim_array[i]=helper.cosine_sim(helper.text_to_ngrams(x,3,'chars'),helper.text_to_ngrams(cell_data,3,'chars'))\n",
    "        i+=1\n",
    "    counter+=1\n",
    "    if(counter%10==0):\n",
    "        print(counter/len(column_data),np.mean(sim_array))\n",
    "    return sim_array"
   ]
  },
  {
   "cell_type": "code",
   "execution_count": null,
   "metadata": {},
   "outputs": [],
   "source": [
    "block_df['page_title']=block_df['page_title'].apply(lambda x: x.replace(blocking_key,''))\n",
    "block_df['page_title_sim']=block_df['page_title'].apply(lambda x: get_sim_among_col(x,block_df['page_title']))"
   ]
  },
  {
   "cell_type": "code",
   "execution_count": null,
   "metadata": {
    "scrolled": true
   },
   "outputs": [],
   "source": [
    "block_df"
   ]
  },
  {
   "cell_type": "code",
   "execution_count": null,
   "metadata": {},
   "outputs": [],
   "source": [
    "cluster2features"
   ]
  },
  {
   "cell_type": "code",
   "execution_count": null,
   "metadata": {
    "scrolled": false
   },
   "outputs": [],
   "source": [
    "block_df.iloc[np.argsort(-block_df['page_title_sim'].loc['buy.net//4236'])]"
   ]
  },
  {
   "cell_type": "code",
   "execution_count": null,
   "metadata": {},
   "outputs": [],
   "source": [
    "block_df.iloc[0]['page_title']"
   ]
  },
  {
   "cell_type": "code",
   "execution_count": null,
   "metadata": {},
   "outputs": [],
   "source": []
  },
  {
   "cell_type": "code",
   "execution_count": null,
   "metadata": {},
   "outputs": [],
   "source": [
    "sigmod.extract_model_words(['hero 3','dfgh','we','16 mp'])"
   ]
  },
  {
   "cell_type": "code",
   "execution_count": null,
   "metadata": {},
   "outputs": [],
   "source": [
    "helper.cosine_sim(n1,n2)"
   ]
  },
  {
   "cell_type": "code",
   "execution_count": null,
   "metadata": {},
   "outputs": [],
   "source": [
    "for idx in range(NUM_CLUSTERS):\n",
    "    dataset_df[idx]=dataset_df[idx].apply(lambda x: )"
   ]
  },
  {
   "cell_type": "code",
   "execution_count": null,
   "metadata": {},
   "outputs": [],
   "source": [
    "'nikon sauask akska nikon sdsds'.replace('nikon','')"
   ]
  },
  {
   "cell_type": "code",
   "execution_count": null,
   "metadata": {
    "collapsed": true
   },
   "outputs": [],
   "source": []
  },
  {
   "cell_type": "code",
   "execution_count": null,
   "metadata": {
    "collapsed": true
   },
   "outputs": [],
   "source": []
  },
  {
   "cell_type": "code",
   "execution_count": null,
   "metadata": {
    "collapsed": true
   },
   "outputs": [],
   "source": []
  }
 ],
 "metadata": {
  "kernelspec": {
   "display_name": "Python [anaconda]",
   "language": "python",
   "name": "Python [anaconda]"
  },
  "language_info": {
   "codemirror_mode": {
    "name": "ipython",
    "version": 3
   },
   "file_extension": ".py",
   "mimetype": "text/x-python",
   "name": "python",
   "nbconvert_exporter": "python",
   "pygments_lexer": "ipython3",
   "version": "3.5.5"
  }
 },
 "nbformat": 4,
 "nbformat_minor": 2
}
