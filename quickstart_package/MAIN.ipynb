{
 "cells": [
  {
   "cell_type": "code",
   "execution_count": 1,
   "metadata": {},
   "outputs": [],
   "source": [
    "from EntityResolutionEngine import EntityResolutionEngine as EntityResolutionEngine \n",
    "import helper as helper\n",
    "import pandas as pd\n",
    "import warnings\n",
    "import preprocessing as preprocessor\n",
    "warnings.filterwarnings('ignore')"
   ]
  },
  {
   "cell_type": "code",
   "execution_count": 2,
   "metadata": {
    "collapsed": true
   },
   "outputs": [],
   "source": [
    "dataset_path='../datasets/2013_camera_specs/'     \n",
    "labelled_path='../datasets/sigmod_large_labelled_dataset.csv'\n",
    "output_file_name='../datasets/output'\n",
    "use_labelled_set=True\n",
    "similarity_threshold=10"
   ]
  },
  {
   "cell_type": "code",
   "execution_count": 3,
   "metadata": {},
   "outputs": [
    {
     "name": "stderr",
     "output_type": "stream",
     "text": [
      "  8%|▊         | 2/24 [00:00<00:01, 15.21it/s]"
     ]
    },
    {
     "name": "stdout",
     "output_type": "stream",
     "text": [
      "Creating df\n",
      ">>> Creating dataframe...\n",
      "\n"
     ]
    },
    {
     "name": "stderr",
     "output_type": "stream",
     "text": [
      "100%|██████████| 24/24 [00:05<00:00,  4.43it/s]\n"
     ]
    },
    {
     "name": "stdout",
     "output_type": "stream",
     "text": [
      ">>> Dataframe created successfully!\n",
      "\n"
     ]
    }
   ],
   "source": [
    "dataset_df = preprocessor.create_brand_dataframe(dataset_path)\n",
    "dataset_df = dataset_df.set_index('spec_id')\n",
    "labelled_df = pd.read_csv(labelled_path)"
   ]
  },
  {
   "cell_type": "code",
   "execution_count": 4,
   "metadata": {},
   "outputs": [],
   "source": [
    "labelled_df = pd.read_csv('../datasets/sigmod_large_labelled_dataset.csv')"
   ]
  },
  {
   "cell_type": "code",
   "execution_count": 5,
   "metadata": {},
   "outputs": [
    {
     "name": "stderr",
     "output_type": "stream",
     "text": [
      "129it [00:00, 1287.88it/s]"
     ]
    },
    {
     "name": "stdout",
     "output_type": "stream",
     "text": [
      ">>> Computing blocking...\n"
     ]
    },
    {
     "name": "stderr",
     "output_type": "stream",
     "text": [
      "29787it [00:05, 4987.06it/s]\n",
      "29787it [00:05, 5367.98it/s]\n"
     ]
    },
    {
     "name": "stdout",
     "output_type": "stream",
     "text": [
      "ended\n",
      ">>> Blocking computed successfully!\n",
      "\n"
     ]
    }
   ],
   "source": [
    "dataset_df = preprocessor.compute_brand_blocking(dataset_df)\n",
    "entity_resolution_engine = EntityResolutionEngine(dataset_df,labelled_df)"
   ]
  },
  {
   "cell_type": "code",
   "execution_count": 6,
   "metadata": {},
   "outputs": [],
   "source": [
    "entity_resolution_engine.get_model_names()"
   ]
  },
  {
   "cell_type": "code",
   "execution_count": 7,
   "metadata": {
    "scrolled": false
   },
   "outputs": [
    {
     "name": "stderr",
     "output_type": "stream",
     "text": [
      "1it [00:00, 99.85it/s]\n",
      "20it [00:00, 3471.53it/s]\n",
      "1it [00:00, 1331.53it/s]\n",
      "198it [00:00, 3535.34it/s]\n",
      "6it [00:00, 3548.48it/s]\n",
      "13it [00:00, 1983.48it/s]\n",
      "11it [00:00, 2316.36it/s]\n",
      "18it [00:00, 2656.02it/s]\n",
      "2it [00:00, 1142.86it/s]\n",
      "10it [00:00, 2883.48it/s]\n",
      "142it [00:00, 4418.17it/s]\n",
      "3it [00:00, 2338.40it/s]\n",
      "0it [00:00, ?it/s]"
     ]
    },
    {
     "name": "stdout",
     "output_type": "stream",
     "text": [
      ">>> Computing blocking...\n"
     ]
    },
    {
     "name": "stderr",
     "output_type": "stream",
     "text": [
      "270it [00:00, 2993.11it/s]\n",
      "2807it [00:01, 2340.14it/s]\n",
      "22it [00:00, 5035.45it/s]\n",
      "7it [00:00, 4134.65it/s]\n",
      "427it [00:00, 3978.58it/s]\n",
      "44it [00:00, 3435.65it/s]\n",
      "769it [00:00, 2887.29it/s]\n",
      "18it [00:00, 3627.59it/s]\n",
      "2445it [00:00, 4211.41it/s]\n",
      "7it [00:00, 3470.87it/s]\n",
      "96it [00:00, 4654.79it/s]\n",
      "4it [00:00, 2713.88it/s]\n",
      "2343it [00:00, 3273.18it/s]\n",
      "2it [00:00, 2666.44it/s]\n",
      "4it [00:00, 3474.98it/s]\n",
      "3it [00:00, 2141.41it/s]\n",
      "23it [00:00, 3924.85it/s]\n",
      "3it [00:00, 2901.29it/s]\n",
      "1it [00:00, 1179.17it/s]\n",
      "9it [00:00, 3651.10it/s]\n",
      "3it [00:00, 1825.99it/s]\n",
      "25it [00:00, 4448.40it/s]\n",
      "14it [00:00, 3041.55it/s]\n",
      "38it [00:00, 3736.49it/s]\n",
      "1520it [00:00, 2184.08it/s]\n",
      "1it [00:00, 1772.74it/s]\n",
      "4it [00:00, 2165.64it/s]\n",
      "9it [00:00, 3093.91it/s]\n",
      "2it [00:00, 856.59it/s]\n",
      "4it [00:00, 1622.71it/s]\n",
      "1it [00:00, 492.40it/s]\n",
      "7it [00:00, 2542.66it/s]\n",
      "9it [00:00, 2016.60it/s]\n",
      "1it [00:00, 746.85it/s]\n",
      "3it [00:00, 2510.56it/s]\n",
      "41it [00:00, 3484.63it/s]\n",
      "15it [00:00, 2389.64it/s]\n",
      "18it [00:00, 2881.36it/s]\n",
      "157it [00:00, 3248.98it/s]\n",
      "2000it [00:00, 4033.30it/s]\n",
      "35it [00:00, 3742.53it/s]\n",
      "8it [00:00, 2235.92it/s]\n",
      "19it [00:00, 2738.93it/s]\n",
      "719it [00:00, 3527.78it/s]\n",
      "4it [00:00, 1880.64it/s]\n",
      "3it [00:00, 1892.74it/s]\n",
      "3it [00:00, 2767.30it/s]\n",
      "8it [00:00, 4153.80it/s]\n",
      "7it [00:00, 3333.35it/s]\n",
      "224it [00:00, 3484.97it/s]\n",
      "1it [00:00, 896.79it/s]\n",
      "43it [00:00, 2739.54it/s]\n",
      "1it [00:00, 1142.86it/s]\n",
      "1it [00:00, 888.06it/s]\n",
      "7it [00:00, 2419.66it/s]\n",
      "7it [00:00, 2351.26it/s]\n",
      "6it [00:00, 1915.64it/s]\n",
      "1444it [00:00, 3343.82it/s]\n",
      "13it [00:00, 4441.67it/s]\n",
      "10it [00:00, 3484.51it/s]\n",
      "1it [00:00, 1540.89it/s]\n",
      "19it [00:00, 3862.72it/s]\n",
      "1it [00:00, 947.01it/s]\n",
      "6it [00:00, 2582.96it/s]\n",
      "32it [00:00, 3124.69it/s]\n",
      "3it [00:00, 2070.24it/s]\n",
      "208it [00:00, 3636.43it/s]\n",
      "8it [00:00, 2411.73it/s]\n",
      "48it [00:00, 3276.69it/s]\n",
      "89it [00:00, 3777.58it/s]\n",
      "15it [00:00, 2195.28it/s]\n",
      "9it [00:00, 2338.98it/s]\n",
      "1312it [00:00, 2402.30it/s]\n",
      "1it [00:00, 1331.53it/s]\n",
      "3it [00:00, 1599.05it/s]\n",
      "2783it [00:00, 3829.83it/s]\n",
      "10it [00:00, 4063.46it/s]\n",
      "722it [00:00, 3377.40it/s]\n",
      "37it [00:00, 5226.81it/s]\n",
      "11it [00:00, 3762.01it/s]\n",
      "16it [00:00, 2968.50it/s]\n",
      "632it [00:00, 3312.89it/s]\n",
      "3it [00:00, 2471.11it/s]\n",
      "121it [00:00, 4190.18it/s]\n",
      "7it [00:00, 2610.02it/s]\n",
      "30it [00:00, 2839.81it/s]\n",
      "1977it [00:00, 3326.99it/s]\n",
      "4it [00:00, 2094.27it/s]\n",
      "96it [00:00, 3376.24it/s]\n",
      "1080it [00:00, 3312.41it/s]\n",
      "51it [00:00, 5791.51it/s]\n",
      "5it [00:00, 2416.63it/s]\n",
      "3it [00:00, 1550.38it/s]\n",
      "12it [00:00, 2084.47it/s]\n",
      "19it [00:00, 3322.29it/s]\n"
     ]
    }
   ],
   "source": [
    "entity_resolution_engine.compute_model_name_blocking()"
   ]
  },
  {
   "cell_type": "code",
   "execution_count": 16,
   "metadata": {
    "scrolled": false
   },
   "outputs": [
    {
     "data": {
      "text/plain": [
       "model_name\n",
       "                4720\n",
       "ds 2cd2532f      228\n",
       "ds 2cd2632f      252\n",
       "eos 5d           228\n",
       "dtype: int64"
      ]
     },
     "execution_count": 16,
     "metadata": {},
     "output_type": "execute_result"
    }
   ],
   "source": [
    "pd.set_option('display.max_rows', 4838)\n",
    "\n",
    "model_groups = entity_resolution_engine.dataset_df.groupby('model_name')\n",
    "a=model_groups.size()\n",
    "a[a>200]"
   ]
  },
  {
   "cell_type": "code",
   "execution_count": 9,
   "metadata": {
    "scrolled": true
   },
   "outputs": [
    {
     "data": {
      "text/plain": [
       "{'olympus 050332171145 ': 2,\n",
       " 'olympus 1 ': 6,\n",
       " 'olympus 10 ': 2,\n",
       " 'olympus 100 ': 4,\n",
       " 'olympus 10mp ': 1,\n",
       " 'olympus 110 ': 2,\n",
       " 'olympus 12 ': 3,\n",
       " 'olympus 12mp ': 3,\n",
       " 'olympus 14 ': 2,\n",
       " 'olympus 140 ': 1,\n",
       " 'olympus 14mp ': 2,\n",
       " 'olympus 16 ': 1,\n",
       " 'olympus 16mp ': 3,\n",
       " 'olympus 2 ': 1,\n",
       " 'olympus 20x ': 1,\n",
       " 'olympus 261006 ': 1,\n",
       " 'olympus 262161 ': 1,\n",
       " 'olympus 3 ': 2,\n",
       " 'olympus 30 ': 4,\n",
       " 'olympus 320l ': 1,\n",
       " 'olympus 340r ': 2,\n",
       " 'olympus 410 ': 3,\n",
       " 'olympus 420 ': 1,\n",
       " 'olympus 450 ': 3,\n",
       " 'olympus 460 ': 1,\n",
       " 'olympus 5 ': 6,\n",
       " 'olympus 500 ': 5,\n",
       " 'olympus 500l ': 2,\n",
       " 'olympus 510 ': 1,\n",
       " 'olympus 520 ': 3,\n",
       " 'olympus 540 ': 1,\n",
       " 'olympus 560 ': 2,\n",
       " 'olympus 580 ': 2,\n",
       " 'olympus 590 ': 1,\n",
       " 'olympus 6 ': 1,\n",
       " 'olympus 600 ': 1,\n",
       " 'olympus 600l ': 1,\n",
       " 'olympus 620 ': 9,\n",
       " 'olympus 7 ': 1,\n",
       " 'olympus 705 ': 1,\n",
       " 'olympus 720 ': 2,\n",
       " 'olympus 850 ': 1,\n",
       " 'olympus c ': 18,\n",
       " 'olympus c4000 ': 2,\n",
       " 'olympus c5000 ': 1,\n",
       " 'olympus c700 ': 2,\n",
       " 'olympus c765 ': 1,\n",
       " 'olympus camedia ': {'olympus camedia 10 ': 5,\n",
       "  'olympus camedia 340r ': 1,\n",
       "  'olympus camedia 360l ': 3,\n",
       "  'olympus camedia 390 ': 1,\n",
       "  'olympus camedia 395 ': 2,\n",
       "  'olympus camedia 40 ': 1,\n",
       "  'olympus camedia 435 ': 2,\n",
       "  'olympus camedia 490 ': 2,\n",
       "  'olympus camedia 510 ': 1,\n",
       "  'olympus camedia 520 ': 2,\n",
       "  'olympus camedia 535 ': 2,\n",
       "  'olympus camedia 540 ': 1,\n",
       "  'olympus camedia 560 ': 3,\n",
       "  'olympus camedia 565 ': 1,\n",
       "  'olympus camedia 580 ': 3,\n",
       "  'olympus camedia 595 ': 1,\n",
       "  'olympus camedia 630 ': 1,\n",
       "  'olympus camedia c ': 66,\n",
       "  'olympus camedia c2040 ': 1,\n",
       "  'olympus camedia c3000 ': 1,\n",
       "  'olympus camedia c3040 ': 2,\n",
       "  'olympus camedia c4000 ': 3,\n",
       "  'olympus camedia c4040 ': 1,\n",
       "  'olympus camedia c450 ': 1,\n",
       "  'olympus camedia c50 ': 1,\n",
       "  'olympus camedia c5000 ': 2,\n",
       "  'olympus camedia c700 ': 1,\n",
       "  'olympus camedia c720 ': 2,\n",
       "  'olympus camedia c740 ': 1,\n",
       "  'olympus camedia d630 ': 1,\n",
       "  'olympus camedia extra ': 2,\n",
       "  'olympus camedia pro ': 1},\n",
       " 'olympus case ': 1,\n",
       " 'olympus d150 ': 1,\n",
       " 'olympus d460 ': 3,\n",
       " 'olympus d545 ': 1,\n",
       " 'olympus e10 ': 1,\n",
       " 'olympus e2omsz12s ': 1,\n",
       " 'olympus e30 ': 2,\n",
       " 'olympus e410 ': 1,\n",
       " 'olympus e620 ': 1,\n",
       " 'olympus em1 ': 2,\n",
       " 'olympus em5 ': 3,\n",
       " 'olympus emp1 ': 2,\n",
       " 'olympus ep ': 1,\n",
       " 'olympus ep1 ': 1,\n",
       " 'olympus ep2 ': 1,\n",
       " 'olympus ep3 ': 4,\n",
       " 'olympus epl3 ': 9,\n",
       " 'olympus epm ': 1,\n",
       " 'olympus evolt ': {'olympus evolt 1 ': 4,\n",
       "  'olympus evolt 3 ': 4,\n",
       "  'olympus evolt 30 ': 2,\n",
       "  'olympus evolt 300 ': 6,\n",
       "  'olympus evolt 330 ': 3,\n",
       "  'olympus evolt 410 ': 2,\n",
       "  'olympus evolt 420 ': 6,\n",
       "  'olympus evolt 450 ': 3,\n",
       "  'olympus evolt 500 ': 7,\n",
       "  'olympus evolt 510 ': 10,\n",
       "  'olympus evolt 520 ': 2,\n",
       "  'olympus evolt 600 ': 3,\n",
       "  'olympus evolt 620 ': 8,\n",
       "  'olympus evolt e420 ': 3,\n",
       "  'olympus evolt e500 ': 3,\n",
       "  'olympus evolt e520 ': 1,\n",
       "  'olympus evolt e620 ': 1},\n",
       " 'olympus f ': 1,\n",
       " 'olympus fe ': {'olympus fe 100 ': 4,\n",
       "  'olympus fe 10mp ': 1,\n",
       "  'olympus fe 110 ': 1,\n",
       "  'olympus fe 115 ': 1,\n",
       "  'olympus fe 120 ': 2,\n",
       "  'olympus fe 130 ': 1,\n",
       "  'olympus fe 140 ': 1,\n",
       "  'olympus fe 170 ': 6,\n",
       "  'olympus fe 190 ': 5,\n",
       "  'olympus fe 20 ': 6,\n",
       "  'olympus fe 200 ': 1,\n",
       "  'olympus fe 210 ': 5,\n",
       "  'olympus fe 230 ': 9,\n",
       "  'olympus fe 240 ': 2,\n",
       "  'olympus fe 25 ': 1,\n",
       "  'olympus fe 26 ': 1,\n",
       "  'olympus fe 270 ': 1,\n",
       "  'olympus fe 280 ': 5,\n",
       "  'olympus fe 290 ': 2,\n",
       "  'olympus fe 3000 ': 3,\n",
       "  'olympus fe 3010 ': 2,\n",
       "  'olympus fe 310 ': 3,\n",
       "  'olympus fe 330 ': 1,\n",
       "  'olympus fe 340 ': 6,\n",
       "  'olympus fe 350 ': 1,\n",
       "  'olympus fe 360 ': 3,\n",
       "  'olympus fe 370 ': 4,\n",
       "  'olympus fe 4000 ': 3,\n",
       "  'olympus fe 4010 ': 2,\n",
       "  'olympus fe 4020 ': 6,\n",
       "  'olympus fe 45 ': 2,\n",
       "  'olympus fe 46 ': 8,\n",
       "  'olympus fe 47 ': 5,\n",
       "  'olympus fe 5010 ': 5,\n",
       "  'olympus fe 5020 ': 4,\n",
       "  'olympus fe 5030 ': 1},\n",
       " 'olympus fe290 ': 2,\n",
       " 'olympus fe45 ': 1,\n",
       " 'olympus fe46 ': 1,\n",
       " 'olympus idea ': 1,\n",
       " 'olympus ir ': 1,\n",
       " 'olympus live ': 1,\n",
       " 'olympus m1 ': 1,\n",
       " 'olympus m5 ': 2,\n",
       " 'olympus micro ': 1,\n",
       " 'olympus mirror ': 1,\n",
       " 'olympus mju ': 11,\n",
       " 'olympus model ': 1,\n",
       " 'olympus om ': {'olympus om 1 ': 1,\n",
       "  'olympus om em ': 5,\n",
       "  'olympus om m1 ': 35,\n",
       "  'olympus om m10 ': 40,\n",
       "  'olympus om m5 ': 60,\n",
       "  'olympus om p5 ': 1},\n",
       " 'olympus omd ': 3,\n",
       " 'olympus p1 ': 1,\n",
       " 'olympus p2 ': 4,\n",
       " 'olympus p3 ': 5,\n",
       " 'olympus p5 ': 6,\n",
       " 'olympus pen ': {'olympus pen ep ': 2,\n",
       "  'olympus pen ep3 ': 1,\n",
       "  'olympus pen epl1 ': 2,\n",
       "  'olympus pen f ': 1,\n",
       "  'olympus pen lite ': 8,\n",
       "  'olympus pen mini ': 8,\n",
       "  'olympus pen p1 ': 11,\n",
       "  'olympus pen p2 ': 6,\n",
       "  'olympus pen p3 ': 14,\n",
       "  'olympus pen p5 ': 18,\n",
       "  'olympus pen pl1 ': 18,\n",
       "  'olympus pen pl2 ': 18,\n",
       "  'olympus pen pl3 ': 11,\n",
       "  'olympus pen pl5 ': 23,\n",
       "  'olympus pen pl6 ': 3,\n",
       "  'olympus pen pl7 ': 6,\n",
       "  'olympus pen pm1 ': 9,\n",
       "  'olympus pen pm2 ': 16},\n",
       " 'olympus perfect ': 1,\n",
       " 'olympus pl1 ': 7,\n",
       " 'olympus pl2 ': 1,\n",
       " 'olympus pl3 ': 4,\n",
       " 'olympus pl5 ': 5,\n",
       " 'olympus pm1 ': 2,\n",
       " 'olympus pm2 ': 4,\n",
       " 'olympus point ': 3,\n",
       " 'olympus premium ': 1,\n",
       " 'olympus sh ': 22,\n",
       " 'olympus sh25mr ': 1,\n",
       " 'olympus sh50 ': 1,\n",
       " 'olympus sigma ': 1,\n",
       " 'olympus smart ': 1,\n",
       " 'olympus sp ': {'olympus sp 100 ': 2,\n",
       "  'olympus sp 100ee ': 2,\n",
       "  'olympus sp 320 ': 2,\n",
       "  'olympus sp 350 ': 1,\n",
       "  'olympus sp 500 ': 1,\n",
       "  'olympus sp 500uz ': 1,\n",
       "  'olympus sp 510uz ': 1,\n",
       "  'olympus sp 550 ': 3,\n",
       "  'olympus sp 550uz ': 3,\n",
       "  'olympus sp 560 ': 2,\n",
       "  'olympus sp 560uz ': 1,\n",
       "  'olympus sp 570 ': 1,\n",
       "  'olympus sp 570uz ': 1,\n",
       "  'olympus sp 590 ': 1,\n",
       "  'olympus sp 590uz ': 2,\n",
       "  'olympus sp 600 ': 1,\n",
       "  'olympus sp 600uz ': 10,\n",
       "  'olympus sp 610uz ': 4,\n",
       "  'olympus sp 620uz ': 3,\n",
       "  'olympus sp 720uz ': 1,\n",
       "  'olympus sp 800uz ': 8,\n",
       "  'olympus sp 810 ': 1,\n",
       "  'olympus sp 810uz ': 3,\n",
       "  'olympus sp 820uz ': 4},\n",
       " 'olympus sp590uz ': 1,\n",
       " 'olympus sp620uz ': 1,\n",
       " 'olympus spares ': 1,\n",
       " 'olympus style ': 1,\n",
       " 'olympus stylus ': {'olympus stylus 027242671270 ': 1,\n",
       "  'olympus stylus 1 ': 12,\n",
       "  'olympus stylus 1000 ': 1,\n",
       "  'olympus stylus 1010 ': 7,\n",
       "  'olympus stylus 1030sw ': 6,\n",
       "  'olympus stylus 1040 ': 1,\n",
       "  'olympus stylus 1050 ': 5,\n",
       "  'olympus stylus 120 ': 2,\n",
       "  'olympus stylus 1200 ': 4,\n",
       "  'olympus stylus 1a ': 1,\n",
       "  'olympus stylus 300 ': 2,\n",
       "  'olympus stylus 3000 ': 2,\n",
       "  'olympus stylus 400 ': 4,\n",
       "  'olympus stylus 410 ': 3,\n",
       "  'olympus stylus 5010 ': 3,\n",
       "  'olympus stylus 50x ': 1,\n",
       "  'olympus stylus 550uz ': 1,\n",
       "  'olympus stylus 550wp ': 2,\n",
       "  'olympus stylus 600 ': 1,\n",
       "  'olympus stylus 6000 ': 5,\n",
       "  'olympus stylus 6020 ': 3,\n",
       "  'olympus stylus 7000 ': 2,\n",
       "  'olympus stylus 7010 ': 6,\n",
       "  'olympus stylus 7030 ': 2,\n",
       "  'olympus stylus 7040 ': 3,\n",
       "  'olympus stylus 710 ': 1,\n",
       "  'olympus stylus 720 ': 1,\n",
       "  'olympus stylus 720sw ': 1,\n",
       "  'olympus stylus 725 ': 2,\n",
       "  'olympus stylus 730 ': 2,\n",
       "  'olympus stylus 740 ': 4,\n",
       "  'olympus stylus 750 ': 1,\n",
       "  'olympus stylus 760 ': 4,\n",
       "  'olympus stylus 770 ': 3,\n",
       "  'olympus stylus 780 ': 1,\n",
       "  'olympus stylus 790 ': 2,\n",
       "  'olympus stylus 800 ': 1,\n",
       "  'olympus stylus 8000 ': 7,\n",
       "  'olympus stylus 8010 ': 7,\n",
       "  'olympus stylus 810 ': 1,\n",
       "  'olympus stylus 820 ': 4,\n",
       "  'olympus stylus 830 ': 1,\n",
       "  'olympus stylus 850 ': 4,\n",
       "  'olympus stylus 850sw ': 1,\n",
       "  'olympus stylus 9000 ': 2,\n",
       "  'olympus stylus free ': 1,\n",
       "  'olympus stylus sh ': 16,\n",
       "  'olympus stylus sp ': 11,\n",
       "  'olympus stylus sz ': 19,\n",
       "  'olympus stylus tg ': 40,\n",
       "  'olympus stylus tg3 ': 1,\n",
       "  'olympus stylus tg850 ': 1,\n",
       "  'olympus stylus traveller ': 1,\n",
       "  'olympus stylus vg ': 9,\n",
       "  'olympus stylus vh ': 2,\n",
       "  'olympus stylus vr ': 4,\n",
       "  'olympus stylus xz ': 15,\n",
       "  'olympus stylus zoom ': 1},\n",
       " 'olympus superzoom ': 1,\n",
       " 'olympus sz ': 29,\n",
       " 'olympus sz10 ': 1,\n",
       " 'olympus sz16 ': 1,\n",
       " 'olympus t100 ': 2,\n",
       " 'olympus tg ': {'olympus tg 1 ': 8,\n",
       "  'olympus tg 2 ': 10,\n",
       "  'olympus tg 3 ': 12,\n",
       "  'olympus tg 310 ': 4,\n",
       "  'olympus tg 320 ': 3,\n",
       "  'olympus tg 610 ': 7,\n",
       "  'olympus tg 620 ': 2,\n",
       "  'olympus tg 630 ': 6,\n",
       "  'olympus tg 630ihs ': 1,\n",
       "  'olympus tg 810 ': 3,\n",
       "  'olympus tg 820 ': 6,\n",
       "  'olympus tg 830 ': 10,\n",
       "  'olympus tg 835 ': 3,\n",
       "  'olympus tg 850 ': 13,\n",
       "  'olympus tg 850ihs ': 3},\n",
       " 'olympus underwater ': 1,\n",
       " 'olympus v ': 9,\n",
       " 'olympus v103020bu000 ': 1,\n",
       " 'olympus v14mp ': 1,\n",
       " 'olympus vg ': 23,\n",
       " 'olympus vg140 ': 1,\n",
       " 'olympus vg160 ': 1,\n",
       " 'olympus vg165k ': 1,\n",
       " 'olympus vg180 ': 1,\n",
       " 'olympus vg190 ': 1,\n",
       " 'olympus vh ': 5,\n",
       " 'olympus vh520 ': 1,\n",
       " 'olympus vr ': 28,\n",
       " 'olympus vr340 ': 1,\n",
       " 'olympus weatherproof ': 1,\n",
       " 'olympus x ': 14,\n",
       " 'olympus xz ': 33,\n",
       " 'olympus î\\x9c ': 3,\n",
       " 'olympus � ': 1}"
      ]
     },
     "execution_count": 9,
     "metadata": {},
     "output_type": "execute_result"
    }
   ],
   "source": [
    "entity_resolution_engine.model_names['olympus']"
   ]
  },
  {
   "cell_type": "code",
   "execution_count": 17,
   "metadata": {
    "collapsed": true
   },
   "outputs": [],
   "source": [
    "run_on_labelled_set=False\n",
    "entity_resolution_engine.output_df=pd.DataFrame(columns=['left_spec_id','right_spec_id','left_page_title','right_page_title'])"
   ]
  },
  {
   "cell_type": "code",
   "execution_count": null,
   "metadata": {
    "scrolled": true
   },
   "outputs": [
    {
     "name": "stdout",
     "output_type": "stream",
     "text": [
      "%  18.867924528301888\n",
      "%  37.735849056603776\n"
     ]
    }
   ],
   "source": [
    "entity_resolution_engine.get_pairs(threshold=similarity_threshold,labelled_set=use_labelled_set)"
   ]
  },
  {
   "cell_type": "code",
   "execution_count": null,
   "metadata": {},
   "outputs": [],
   "source": [
    "entity_resolution_engine.output_df[['left_spec_id','right_spec_id']].to_csv(output_file_name+'.csv')"
   ]
  },
  {
   "cell_type": "code",
   "execution_count": null,
   "metadata": {},
   "outputs": [],
   "source": [
    "entity_resolution_engine.output_df.head(50)"
   ]
  },
  {
   "cell_type": "code",
   "execution_count": 12,
   "metadata": {},
   "outputs": [
    {
     "name": "stdout",
     "output_type": "stream",
     "text": [
      "calculating precision, recall and f-measure ...\n",
      "Precision: 0.9611009266467442 Recall: 0.8997766545198073 F-measure:  0.9294283355189665\n"
     ]
    }
   ],
   "source": [
    "if run_on_labelled_set:\n",
    "    precision,recall,f_measure,incorrect_pairs = entity_resolution_engine.calculate_f_measure()\n",
    "    print('Precision:', precision,'Recall:', recall,'F-measure: ',f_measure)"
   ]
  },
  {
   "cell_type": "code",
   "execution_count": null,
   "metadata": {
    "collapsed": true
   },
   "outputs": [],
   "source": []
  },
  {
   "cell_type": "code",
   "execution_count": null,
   "metadata": {
    "collapsed": true
   },
   "outputs": [],
   "source": []
  }
 ],
 "metadata": {
  "kernelspec": {
   "display_name": "Python [anaconda]",
   "language": "python",
   "name": "Python [anaconda]"
  },
  "language_info": {
   "codemirror_mode": {
    "name": "ipython",
    "version": 3
   },
   "file_extension": ".py",
   "mimetype": "text/x-python",
   "name": "python",
   "nbconvert_exporter": "python",
   "pygments_lexer": "ipython3",
   "version": "3.5.5"
  }
 },
 "nbformat": 4,
 "nbformat_minor": 2
}
