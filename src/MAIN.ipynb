{
 "cells": [
  {
   "cell_type": "code",
   "execution_count": 5,
   "metadata": {
    "collapsed": true
   },
   "outputs": [],
   "source": [
    "from EntityResolutionEngine import EntityResolutionEngine as EntityResolutionEngine \n",
    "import helper as helper\n",
    "import pandas as pd\n",
    "import warnings\n",
    "import preprocessing as preprocessor\n",
    "warnings.filterwarnings('ignore')"
   ]
  },
  {
   "cell_type": "code",
   "execution_count": 6,
   "metadata": {
    "collapsed": true
   },
   "outputs": [],
   "source": [
    "dataset_path='../datasets/2013_camera_specs/'     \n",
    "labelled_path='../datasets/sigmod_large_labelled_dataset.csv'\n",
    "output_file_name='../datasets/output_labelled'\n",
    "use_labelled_set=True\n",
    "similarity_threshold=10"
   ]
  },
  {
   "cell_type": "code",
   "execution_count": 7,
   "metadata": {},
   "outputs": [
    {
     "name": "stderr",
     "output_type": "stream",
     "text": [
      "  8%|▊         | 2/24 [00:00<00:01, 16.82it/s]"
     ]
    },
    {
     "name": "stdout",
     "output_type": "stream",
     "text": [
      "Creating df\n",
      ">>> Creating dataframe...\n",
      "\n"
     ]
    },
    {
     "name": "stderr",
     "output_type": "stream",
     "text": [
      "100%|██████████| 24/24 [00:09<00:00,  1.76it/s]\n"
     ]
    },
    {
     "name": "stdout",
     "output_type": "stream",
     "text": [
      ">>> Dataframe created successfully!\n",
      "\n"
     ]
    }
   ],
   "source": [
    "dataset_df = preprocessor.create_brand_dataframe(dataset_path)\n",
    "dataset_df = dataset_df.set_index('spec_id')\n",
    "labelled_df = pd.read_csv(labelled_path)"
   ]
  },
  {
   "cell_type": "code",
   "execution_count": 8,
   "metadata": {
    "collapsed": true
   },
   "outputs": [],
   "source": [
    "labelled_df = pd.read_csv('../datasets/sigmod_large_labelled_dataset.csv')"
   ]
  },
  {
   "cell_type": "code",
   "execution_count": 9,
   "metadata": {},
   "outputs": [
    {
     "name": "stderr",
     "output_type": "stream",
     "text": [
      "451it [00:00, 4507.34it/s]"
     ]
    },
    {
     "name": "stdout",
     "output_type": "stream",
     "text": [
      ">>> Computing blocking...\n"
     ]
    },
    {
     "name": "stderr",
     "output_type": "stream",
     "text": [
      "29787it [00:04, 5998.76it/s]\n",
      "29787it [00:04, 6368.66it/s]\n"
     ]
    },
    {
     "name": "stdout",
     "output_type": "stream",
     "text": [
      "ended\n",
      ">>> Blocking computed successfully!\n",
      "\n"
     ]
    }
   ],
   "source": [
    "dataset_df = preprocessor.compute_brand_blocking(dataset_df)\n",
    "entity_resolution_engine = EntityResolutionEngine(dataset_df,labelled_df)"
   ]
  },
  {
   "cell_type": "code",
   "execution_count": 10,
   "metadata": {
    "collapsed": true
   },
   "outputs": [],
   "source": [
    "entity_resolution_engine.get_model_names()"
   ]
  },
  {
   "cell_type": "code",
   "execution_count": 11,
   "metadata": {
    "scrolled": false
   },
   "outputs": [
    {
     "name": "stderr",
     "output_type": "stream",
     "text": [
      "12it [00:00, 1342.14it/s]\n",
      "15it [00:00, 4695.12it/s]\n",
      "208it [00:00, 6727.71it/s]\n",
      "18it [00:00, 4388.11it/s]\n",
      "1it [00:00, 2192.53it/s]\n",
      "38it [00:00, 5697.97it/s]\n",
      "89it [00:00, 5777.73it/s]\n",
      "19it [00:00, 4726.40it/s]\n",
      "7it [00:00, 4461.35it/s]\n",
      "23it [00:00, 5235.48it/s]\n",
      "8it [00:00, 5141.65it/s]\n",
      "1it [00:00, 2267.19it/s]\n",
      "0it [00:00, ?it/s]"
     ]
    },
    {
     "name": "stdout",
     "output_type": "stream",
     "text": [
      ">>> Computing blocking...\n"
     ]
    },
    {
     "name": "stderr",
     "output_type": "stream",
     "text": [
      "2343it [00:00, 3926.64it/s]\n",
      "8it [00:00, 3793.18it/s]\n",
      "1it [00:00, 1375.63it/s]\n",
      "4it [00:00, 3257.71it/s]\n",
      "1it [00:00, 1524.65it/s]\n",
      "7it [00:00, 4271.19it/s]\n",
      "3it [00:00, 3051.88it/s]\n",
      "16it [00:00, 5153.10it/s]\n",
      "2000it [00:00, 5181.44it/s]\n",
      "44it [00:00, 5499.25it/s]\n",
      "11it [00:00, 4826.59it/s]\n",
      "2783it [00:00, 4526.09it/s]\n",
      "9it [00:00, 3959.38it/s]\n",
      "3it [00:00, 2993.79it/s]\n",
      "9it [00:00, 5021.78it/s]\n",
      "1it [00:00, 2353.71it/s]\n",
      "4it [00:00, 4328.49it/s]\n",
      "1it [00:00, 1739.65it/s]\n",
      "632it [00:00, 4629.60it/s]\n",
      "4it [00:00, 3141.80it/s]\n",
      "18it [00:00, 5159.05it/s]\n",
      "705it [00:00, 4332.51it/s]\n",
      "7it [00:00, 4278.65it/s]\n",
      "37it [00:00, 5893.56it/s]\n",
      "2it [00:00, 2754.88it/s]\n",
      "3it [00:00, 2218.82it/s]\n",
      "2it [00:00, 2919.81it/s]\n",
      "48it [00:00, 5382.34it/s]\n",
      "1977it [00:00, 4284.90it/s]\n",
      "96it [00:00, 4293.55it/s]\n",
      "1444it [00:00, 4259.41it/s]\n",
      "1077it [00:00, 3971.29it/s]\n",
      "427it [00:00, 4304.87it/s]\n",
      "4it [00:00, 2679.21it/s]\n",
      "1312it [00:00, 2634.26it/s]\n",
      "8it [00:00, 3842.26it/s]\n",
      "30it [00:00, 5661.60it/s]\n",
      "1it [00:00, 1483.66it/s]\n",
      "96it [00:00, 5277.65it/s]\n",
      "18it [00:00, 5339.66it/s]\n",
      "3it [00:00, 2425.39it/s]\n",
      "9it [00:00, 4122.84it/s]\n",
      "32it [00:00, 5154.69it/s]\n",
      "3it [00:00, 3663.15it/s]\n",
      "4it [00:00, 3512.08it/s]\n",
      "121it [00:00, 5383.53it/s]\n",
      "7it [00:00, 3956.89it/s]\n",
      "1520it [00:00, 2452.58it/s]\n",
      "1it [00:00, 1038.19it/s]\n",
      "43it [00:00, 5397.27it/s]\n",
      "722it [00:00, 4323.72it/s]\n",
      "13it [00:00, 4888.90it/s]\n",
      "6it [00:00, 3802.63it/s]\n",
      "6it [00:00, 4758.14it/s]\n",
      "15it [00:00, 3755.64it/s]\n",
      "1it [00:00, 1694.67it/s]\n",
      "3it [00:00, 3092.38it/s]\n",
      "2it [00:00, 2725.34it/s]\n",
      "224it [00:00, 4730.33it/s]\n",
      "3it [00:00, 3131.64it/s]\n",
      "19it [00:00, 5350.60it/s]\n",
      "270it [00:00, 4073.44it/s]\n",
      "2807it [00:01, 2513.61it/s]\n",
      "15it [00:00, 6382.73it/s]\n",
      "22it [00:00, 5569.45it/s]\n",
      "2445it [00:00, 4551.09it/s]\n",
      "4it [00:00, 3100.58it/s]\n",
      "7it [00:00, 4602.62it/s]\n",
      "10it [00:00, 4268.14it/s]\n",
      "3it [00:00, 2785.68it/s]\n",
      "5it [00:00, 3922.11it/s]\n",
      "7it [00:00, 3705.68it/s]\n",
      "1it [00:00, 2024.28it/s]\n",
      "51it [00:00, 5790.89it/s]\n",
      "10it [00:00, 5017.71it/s]\n",
      "3it [00:00, 2801.18it/s]\n",
      "156it [00:00, 5473.49it/s]\n",
      "13it [00:00, 4720.45it/s]\n",
      "19it [00:00, 3903.78it/s]\n",
      "6it [00:00, 4076.10it/s]\n",
      "142it [00:00, 5584.85it/s]\n",
      "3it [00:00, 2363.88it/s]\n",
      "25it [00:00, 4920.35it/s]\n",
      "7it [00:00, 4533.68it/s]\n",
      "14it [00:00, 4392.60it/s]\n",
      "10it [00:00, 4887.90it/s]\n",
      "200it [00:00, 4153.95it/s]\n",
      "3it [00:00, 3645.11it/s]\n",
      "35it [00:00, 4568.67it/s]\n",
      "11it [00:00, 4493.31it/s]\n",
      "770it [00:00, 3161.79it/s]\n",
      "9it [00:00, 4499.79it/s]\n",
      "1it [00:00, 1751.28it/s]\n",
      "41it [00:00, 5072.91it/s]\n",
      "20it [00:00, 4972.80it/s]\n"
     ]
    }
   ],
   "source": [
    "entity_resolution_engine.compute_model_name_blocking()"
   ]
  },
  {
   "cell_type": "code",
   "execution_count": 12,
   "metadata": {
    "scrolled": false
   },
   "outputs": [
    {
     "data": {
      "text/plain": [
       "model_name\n",
       "                4721\n",
       "ds 2cd2532f      228\n",
       "ds 2cd2632f      252\n",
       "eos 5d           228\n",
       "sigma            248\n",
       "dtype: int64"
      ]
     },
     "execution_count": 12,
     "metadata": {},
     "output_type": "execute_result"
    }
   ],
   "source": [
    "pd.set_option('display.max_rows', 4838)\n",
    "\n",
    "model_groups = entity_resolution_engine.dataset_df.groupby('model_name')\n",
    "a=model_groups.size()\n",
    "a[a>200]"
   ]
  },
  {
   "cell_type": "code",
   "execution_count": 13,
   "metadata": {
    "scrolled": true
   },
   "outputs": [
    {
     "data": {
      "text/plain": [
       "{'olympus 050332171145 ': 2,\n",
       " 'olympus 1 ': 6,\n",
       " 'olympus 10 ': 2,\n",
       " 'olympus 100 ': 4,\n",
       " 'olympus 10mp ': 1,\n",
       " 'olympus 110 ': 2,\n",
       " 'olympus 12 ': 3,\n",
       " 'olympus 12mp ': 3,\n",
       " 'olympus 14 ': 2,\n",
       " 'olympus 140 ': 1,\n",
       " 'olympus 14mp ': 2,\n",
       " 'olympus 16 ': 1,\n",
       " 'olympus 16mp ': 3,\n",
       " 'olympus 2 ': 1,\n",
       " 'olympus 20x ': 1,\n",
       " 'olympus 261006 ': 1,\n",
       " 'olympus 262161 ': 1,\n",
       " 'olympus 3 ': 2,\n",
       " 'olympus 30 ': 4,\n",
       " 'olympus 320l ': 1,\n",
       " 'olympus 340r ': 2,\n",
       " 'olympus 410 ': 3,\n",
       " 'olympus 420 ': 1,\n",
       " 'olympus 450 ': 3,\n",
       " 'olympus 460 ': 1,\n",
       " 'olympus 5 ': 6,\n",
       " 'olympus 500 ': 5,\n",
       " 'olympus 500l ': 2,\n",
       " 'olympus 510 ': 1,\n",
       " 'olympus 520 ': 3,\n",
       " 'olympus 540 ': 1,\n",
       " 'olympus 560 ': 2,\n",
       " 'olympus 580 ': 2,\n",
       " 'olympus 590 ': 1,\n",
       " 'olympus 6 ': 1,\n",
       " 'olympus 600 ': 1,\n",
       " 'olympus 600l ': 1,\n",
       " 'olympus 620 ': 9,\n",
       " 'olympus 7 ': 1,\n",
       " 'olympus 705 ': 1,\n",
       " 'olympus 720 ': 2,\n",
       " 'olympus 850 ': 1,\n",
       " 'olympus c ': 18,\n",
       " 'olympus c4000 ': 2,\n",
       " 'olympus c5000 ': 1,\n",
       " 'olympus c700 ': 2,\n",
       " 'olympus c765 ': 1,\n",
       " 'olympus camedia ': {'olympus camedia 10 ': 5,\n",
       "  'olympus camedia 340r ': 1,\n",
       "  'olympus camedia 360l ': 3,\n",
       "  'olympus camedia 390 ': 1,\n",
       "  'olympus camedia 395 ': 2,\n",
       "  'olympus camedia 40 ': 1,\n",
       "  'olympus camedia 435 ': 2,\n",
       "  'olympus camedia 490 ': 2,\n",
       "  'olympus camedia 510 ': 1,\n",
       "  'olympus camedia 520 ': 2,\n",
       "  'olympus camedia 535 ': 2,\n",
       "  'olympus camedia 540 ': 1,\n",
       "  'olympus camedia 560 ': 3,\n",
       "  'olympus camedia 565 ': 1,\n",
       "  'olympus camedia 580 ': 3,\n",
       "  'olympus camedia 595 ': 1,\n",
       "  'olympus camedia 630 ': 1,\n",
       "  'olympus camedia c ': 66,\n",
       "  'olympus camedia c2040 ': 1,\n",
       "  'olympus camedia c3000 ': 1,\n",
       "  'olympus camedia c3040 ': 2,\n",
       "  'olympus camedia c4000 ': 3,\n",
       "  'olympus camedia c4040 ': 1,\n",
       "  'olympus camedia c450 ': 1,\n",
       "  'olympus camedia c50 ': 1,\n",
       "  'olympus camedia c5000 ': 2,\n",
       "  'olympus camedia c700 ': 1,\n",
       "  'olympus camedia c720 ': 2,\n",
       "  'olympus camedia c740 ': 1,\n",
       "  'olympus camedia d630 ': 1,\n",
       "  'olympus camedia extra ': 2,\n",
       "  'olympus camedia pro ': 1},\n",
       " 'olympus case ': 1,\n",
       " 'olympus d150 ': 1,\n",
       " 'olympus d460 ': 3,\n",
       " 'olympus d545 ': 1,\n",
       " 'olympus e10 ': 1,\n",
       " 'olympus e2omsz12s ': 1,\n",
       " 'olympus e30 ': 2,\n",
       " 'olympus e410 ': 1,\n",
       " 'olympus e620 ': 1,\n",
       " 'olympus em1 ': 2,\n",
       " 'olympus em5 ': 3,\n",
       " 'olympus emp1 ': 2,\n",
       " 'olympus ep ': 1,\n",
       " 'olympus ep1 ': 1,\n",
       " 'olympus ep2 ': 1,\n",
       " 'olympus ep3 ': 4,\n",
       " 'olympus epl3 ': 9,\n",
       " 'olympus epm ': 1,\n",
       " 'olympus evolt ': {'olympus evolt 1 ': 4,\n",
       "  'olympus evolt 3 ': 4,\n",
       "  'olympus evolt 30 ': 2,\n",
       "  'olympus evolt 300 ': 6,\n",
       "  'olympus evolt 330 ': 3,\n",
       "  'olympus evolt 410 ': 2,\n",
       "  'olympus evolt 420 ': 6,\n",
       "  'olympus evolt 450 ': 3,\n",
       "  'olympus evolt 500 ': 7,\n",
       "  'olympus evolt 510 ': 10,\n",
       "  'olympus evolt 520 ': 2,\n",
       "  'olympus evolt 600 ': 3,\n",
       "  'olympus evolt 620 ': 8,\n",
       "  'olympus evolt e420 ': 3,\n",
       "  'olympus evolt e500 ': 3,\n",
       "  'olympus evolt e520 ': 1,\n",
       "  'olympus evolt e620 ': 1},\n",
       " 'olympus f ': 1,\n",
       " 'olympus fe ': {'olympus fe 100 ': 4,\n",
       "  'olympus fe 10mp ': 1,\n",
       "  'olympus fe 110 ': 1,\n",
       "  'olympus fe 115 ': 1,\n",
       "  'olympus fe 120 ': 2,\n",
       "  'olympus fe 130 ': 1,\n",
       "  'olympus fe 140 ': 1,\n",
       "  'olympus fe 170 ': 6,\n",
       "  'olympus fe 190 ': 5,\n",
       "  'olympus fe 20 ': 6,\n",
       "  'olympus fe 200 ': 1,\n",
       "  'olympus fe 210 ': 5,\n",
       "  'olympus fe 230 ': 9,\n",
       "  'olympus fe 240 ': 2,\n",
       "  'olympus fe 25 ': 1,\n",
       "  'olympus fe 26 ': 1,\n",
       "  'olympus fe 270 ': 1,\n",
       "  'olympus fe 280 ': 5,\n",
       "  'olympus fe 290 ': 2,\n",
       "  'olympus fe 3000 ': 3,\n",
       "  'olympus fe 3010 ': 2,\n",
       "  'olympus fe 310 ': 3,\n",
       "  'olympus fe 330 ': 1,\n",
       "  'olympus fe 340 ': 6,\n",
       "  'olympus fe 350 ': 1,\n",
       "  'olympus fe 360 ': 3,\n",
       "  'olympus fe 370 ': 4,\n",
       "  'olympus fe 4000 ': 3,\n",
       "  'olympus fe 4010 ': 2,\n",
       "  'olympus fe 4020 ': 6,\n",
       "  'olympus fe 45 ': 2,\n",
       "  'olympus fe 46 ': 8,\n",
       "  'olympus fe 47 ': 5,\n",
       "  'olympus fe 5010 ': 5,\n",
       "  'olympus fe 5020 ': 4,\n",
       "  'olympus fe 5030 ': 1},\n",
       " 'olympus fe290 ': 2,\n",
       " 'olympus fe45 ': 1,\n",
       " 'olympus fe46 ': 1,\n",
       " 'olympus idea ': 1,\n",
       " 'olympus ir ': 1,\n",
       " 'olympus live ': 1,\n",
       " 'olympus m1 ': 1,\n",
       " 'olympus m5 ': 2,\n",
       " 'olympus micro ': 1,\n",
       " 'olympus mirror ': 1,\n",
       " 'olympus mju ': 11,\n",
       " 'olympus model ': 1,\n",
       " 'olympus om ': {'olympus om 1 ': 1,\n",
       "  'olympus om em ': 5,\n",
       "  'olympus om m1 ': 35,\n",
       "  'olympus om m10 ': 40,\n",
       "  'olympus om m5 ': 60,\n",
       "  'olympus om p5 ': 1},\n",
       " 'olympus omd ': 3,\n",
       " 'olympus p1 ': 1,\n",
       " 'olympus p2 ': 4,\n",
       " 'olympus p3 ': 5,\n",
       " 'olympus p5 ': 6,\n",
       " 'olympus pen ': {'olympus pen ep ': 2,\n",
       "  'olympus pen ep3 ': 1,\n",
       "  'olympus pen epl1 ': 2,\n",
       "  'olympus pen f ': 1,\n",
       "  'olympus pen lite ': 8,\n",
       "  'olympus pen mini ': 8,\n",
       "  'olympus pen p1 ': 11,\n",
       "  'olympus pen p2 ': 6,\n",
       "  'olympus pen p3 ': 14,\n",
       "  'olympus pen p5 ': 18,\n",
       "  'olympus pen pl1 ': 18,\n",
       "  'olympus pen pl2 ': 18,\n",
       "  'olympus pen pl3 ': 11,\n",
       "  'olympus pen pl5 ': 23,\n",
       "  'olympus pen pl6 ': 3,\n",
       "  'olympus pen pl7 ': 6,\n",
       "  'olympus pen pm1 ': 9,\n",
       "  'olympus pen pm2 ': 16},\n",
       " 'olympus perfect ': 1,\n",
       " 'olympus pl1 ': 7,\n",
       " 'olympus pl2 ': 1,\n",
       " 'olympus pl3 ': 4,\n",
       " 'olympus pl5 ': 5,\n",
       " 'olympus pm1 ': 2,\n",
       " 'olympus pm2 ': 4,\n",
       " 'olympus point ': 3,\n",
       " 'olympus premium ': 1,\n",
       " 'olympus sh ': 22,\n",
       " 'olympus sh25mr ': 1,\n",
       " 'olympus sh50 ': 1,\n",
       " 'olympus sigma ': 1,\n",
       " 'olympus smart ': 1,\n",
       " 'olympus sp ': {'olympus sp 100 ': 2,\n",
       "  'olympus sp 100ee ': 2,\n",
       "  'olympus sp 320 ': 2,\n",
       "  'olympus sp 350 ': 1,\n",
       "  'olympus sp 500 ': 1,\n",
       "  'olympus sp 500uz ': 1,\n",
       "  'olympus sp 510uz ': 1,\n",
       "  'olympus sp 550 ': 3,\n",
       "  'olympus sp 550uz ': 3,\n",
       "  'olympus sp 560 ': 2,\n",
       "  'olympus sp 560uz ': 1,\n",
       "  'olympus sp 570 ': 1,\n",
       "  'olympus sp 570uz ': 1,\n",
       "  'olympus sp 590 ': 1,\n",
       "  'olympus sp 590uz ': 2,\n",
       "  'olympus sp 600 ': 1,\n",
       "  'olympus sp 600uz ': 10,\n",
       "  'olympus sp 610uz ': 4,\n",
       "  'olympus sp 620uz ': 3,\n",
       "  'olympus sp 720uz ': 1,\n",
       "  'olympus sp 800uz ': 8,\n",
       "  'olympus sp 810 ': 1,\n",
       "  'olympus sp 810uz ': 3,\n",
       "  'olympus sp 820uz ': 4},\n",
       " 'olympus sp590uz ': 1,\n",
       " 'olympus sp620uz ': 1,\n",
       " 'olympus spares ': 1,\n",
       " 'olympus style ': 1,\n",
       " 'olympus stylus ': {'olympus stylus 027242671270 ': 1,\n",
       "  'olympus stylus 1 ': 12,\n",
       "  'olympus stylus 1000 ': 1,\n",
       "  'olympus stylus 1010 ': 7,\n",
       "  'olympus stylus 1030sw ': 6,\n",
       "  'olympus stylus 1040 ': 1,\n",
       "  'olympus stylus 1050 ': 5,\n",
       "  'olympus stylus 120 ': 2,\n",
       "  'olympus stylus 1200 ': 4,\n",
       "  'olympus stylus 1a ': 1,\n",
       "  'olympus stylus 300 ': 2,\n",
       "  'olympus stylus 3000 ': 2,\n",
       "  'olympus stylus 400 ': 4,\n",
       "  'olympus stylus 410 ': 3,\n",
       "  'olympus stylus 5010 ': 3,\n",
       "  'olympus stylus 50x ': 1,\n",
       "  'olympus stylus 550uz ': 1,\n",
       "  'olympus stylus 550wp ': 2,\n",
       "  'olympus stylus 600 ': 1,\n",
       "  'olympus stylus 6000 ': 5,\n",
       "  'olympus stylus 6020 ': 3,\n",
       "  'olympus stylus 7000 ': 2,\n",
       "  'olympus stylus 7010 ': 6,\n",
       "  'olympus stylus 7030 ': 2,\n",
       "  'olympus stylus 7040 ': 3,\n",
       "  'olympus stylus 710 ': 1,\n",
       "  'olympus stylus 720 ': 1,\n",
       "  'olympus stylus 720sw ': 1,\n",
       "  'olympus stylus 725 ': 2,\n",
       "  'olympus stylus 730 ': 2,\n",
       "  'olympus stylus 740 ': 4,\n",
       "  'olympus stylus 750 ': 1,\n",
       "  'olympus stylus 760 ': 4,\n",
       "  'olympus stylus 770 ': 3,\n",
       "  'olympus stylus 780 ': 1,\n",
       "  'olympus stylus 790 ': 2,\n",
       "  'olympus stylus 800 ': 1,\n",
       "  'olympus stylus 8000 ': 7,\n",
       "  'olympus stylus 8010 ': 7,\n",
       "  'olympus stylus 810 ': 1,\n",
       "  'olympus stylus 820 ': 4,\n",
       "  'olympus stylus 830 ': 1,\n",
       "  'olympus stylus 850 ': 4,\n",
       "  'olympus stylus 850sw ': 1,\n",
       "  'olympus stylus 9000 ': 2,\n",
       "  'olympus stylus free ': 1,\n",
       "  'olympus stylus sh ': 16,\n",
       "  'olympus stylus sp ': 11,\n",
       "  'olympus stylus sz ': 19,\n",
       "  'olympus stylus tg ': 40,\n",
       "  'olympus stylus tg3 ': 1,\n",
       "  'olympus stylus tg850 ': 1,\n",
       "  'olympus stylus traveller ': 1,\n",
       "  'olympus stylus vg ': 9,\n",
       "  'olympus stylus vh ': 2,\n",
       "  'olympus stylus vr ': 4,\n",
       "  'olympus stylus xz ': 15,\n",
       "  'olympus stylus zoom ': 1},\n",
       " 'olympus superzoom ': 1,\n",
       " 'olympus sz ': 29,\n",
       " 'olympus sz10 ': 1,\n",
       " 'olympus sz16 ': 1,\n",
       " 'olympus t100 ': 2,\n",
       " 'olympus tg ': {'olympus tg 1 ': 8,\n",
       "  'olympus tg 2 ': 10,\n",
       "  'olympus tg 3 ': 12,\n",
       "  'olympus tg 310 ': 4,\n",
       "  'olympus tg 320 ': 3,\n",
       "  'olympus tg 610 ': 7,\n",
       "  'olympus tg 620 ': 2,\n",
       "  'olympus tg 630 ': 6,\n",
       "  'olympus tg 630ihs ': 1,\n",
       "  'olympus tg 810 ': 3,\n",
       "  'olympus tg 820 ': 6,\n",
       "  'olympus tg 830 ': 10,\n",
       "  'olympus tg 835 ': 3,\n",
       "  'olympus tg 850 ': 13,\n",
       "  'olympus tg 850ihs ': 3},\n",
       " 'olympus underwater ': 1,\n",
       " 'olympus v ': 9,\n",
       " 'olympus v103020bu000 ': 1,\n",
       " 'olympus v14mp ': 1,\n",
       " 'olympus vg ': 23,\n",
       " 'olympus vg140 ': 1,\n",
       " 'olympus vg160 ': 1,\n",
       " 'olympus vg165k ': 1,\n",
       " 'olympus vg180 ': 1,\n",
       " 'olympus vg190 ': 1,\n",
       " 'olympus vh ': 5,\n",
       " 'olympus vh520 ': 1,\n",
       " 'olympus vr ': 28,\n",
       " 'olympus vr340 ': 1,\n",
       " 'olympus weatherproof ': 1,\n",
       " 'olympus x ': 14,\n",
       " 'olympus xz ': 33,\n",
       " 'olympus î\\x9c ': 3,\n",
       " 'olympus � ': 1}"
      ]
     },
     "execution_count": 13,
     "metadata": {},
     "output_type": "execute_result"
    }
   ],
   "source": [
    "entity_resolution_engine.model_names['olympus']"
   ]
  },
  {
   "cell_type": "code",
   "execution_count": 14,
   "metadata": {
    "collapsed": true
   },
   "outputs": [],
   "source": [
    "entity_resolution_engine.output_df=pd.DataFrame(columns=['left_spec_id','right_spec_id','left_page_title','right_page_title'])"
   ]
  },
  {
   "cell_type": "code",
   "execution_count": 15,
   "metadata": {
    "scrolled": true
   },
   "outputs": [
    {
     "name": "stdout",
     "output_type": "stream",
     "text": [
      "%  17.543859649122805\n",
      "%  35.08771929824561\n",
      "%  52.63157894736842\n",
      "%  70.17543859649122\n",
      "%  87.71929824561403\n"
     ]
    }
   ],
   "source": [
    "entity_resolution_engine.get_pairs(threshold=similarity_threshold,labelled_set=use_labelled_set)"
   ]
  },
  {
   "cell_type": "code",
   "execution_count": 16,
   "metadata": {
    "collapsed": true
   },
   "outputs": [],
   "source": [
    "entity_resolution_engine.output_df[['left_spec_id','right_spec_id']].to_csv(output_file_name+'.csv',index=False)"
   ]
  },
  {
   "cell_type": "code",
   "execution_count": 17,
   "metadata": {
    "scrolled": true
   },
   "outputs": [
    {
     "data": {
      "text/html": [
       "<div>\n",
       "<style scoped>\n",
       "    .dataframe tbody tr th:only-of-type {\n",
       "        vertical-align: middle;\n",
       "    }\n",
       "\n",
       "    .dataframe tbody tr th {\n",
       "        vertical-align: top;\n",
       "    }\n",
       "\n",
       "    .dataframe thead th {\n",
       "        text-align: right;\n",
       "    }\n",
       "</style>\n",
       "<table border=\"1\" class=\"dataframe\">\n",
       "  <thead>\n",
       "    <tr style=\"text-align: right;\">\n",
       "      <th></th>\n",
       "      <th>left_spec_id</th>\n",
       "      <th>right_spec_id</th>\n",
       "      <th>left_page_title</th>\n",
       "      <th>right_page_title</th>\n",
       "    </tr>\n",
       "  </thead>\n",
       "  <tbody>\n",
       "    <tr>\n",
       "      <th>0</th>\n",
       "      <td>www.camerafarm.com.au//740</td>\n",
       "      <td>www.ebay.com//57137</td>\n",
       "      <td>nikon 1 j3 beige vvk185xh camerafarm australia</td>\n",
       "      <td>nikon 1 j3 w 10 30mm lens 10 30 mm 01820827638...</td>\n",
       "    </tr>\n",
       "    <tr>\n",
       "      <th>1</th>\n",
       "      <td>www.camerafarm.com.au//740</td>\n",
       "      <td>www.ebay.com//60718</td>\n",
       "      <td>nikon 1 j3 beige vvk185xh camerafarm australia</td>\n",
       "      <td>nikon 1 j3 14 2mp kit w vr 10 30mm lens w 4gb ...</td>\n",
       "    </tr>\n",
       "    <tr>\n",
       "      <th>2</th>\n",
       "      <td>www.camerafarm.com.au//740</td>\n",
       "      <td>www.shopmania.in//1430</td>\n",
       "      <td>nikon 1 j3 beige vvk185xh camerafarm australia</td>\n",
       "      <td>nikon 1 j3 kit 10 30mm shopping comparison nik...</td>\n",
       "    </tr>\n",
       "    <tr>\n",
       "      <th>3</th>\n",
       "      <td>www.camerafarm.com.au//740</td>\n",
       "      <td>www.ebay.com//42517</td>\n",
       "      <td>nikon 1 j3 beige vvk185xh camerafarm australia</td>\n",
       "      <td>nikon 1 j3 14 2mp hd 10 30mm vr lens 018208276...</td>\n",
       "    </tr>\n",
       "    <tr>\n",
       "      <th>4</th>\n",
       "      <td>www.camerafarm.com.au//740</td>\n",
       "      <td>www.ebay.com//47107</td>\n",
       "      <td>nikon 1 j3 beige vvk185xh camerafarm australia</td>\n",
       "      <td>nikon 1 j3 14 2mp kit w vr 10 30mm lens 018208...</td>\n",
       "    </tr>\n",
       "  </tbody>\n",
       "</table>\n",
       "</div>"
      ],
      "text/plain": [
       "                 left_spec_id           right_spec_id  \\\n",
       "0  www.camerafarm.com.au//740     www.ebay.com//57137   \n",
       "1  www.camerafarm.com.au//740     www.ebay.com//60718   \n",
       "2  www.camerafarm.com.au//740  www.shopmania.in//1430   \n",
       "3  www.camerafarm.com.au//740     www.ebay.com//42517   \n",
       "4  www.camerafarm.com.au//740     www.ebay.com//47107   \n",
       "\n",
       "                                  left_page_title  \\\n",
       "0  nikon 1 j3 beige vvk185xh camerafarm australia   \n",
       "1  nikon 1 j3 beige vvk185xh camerafarm australia   \n",
       "2  nikon 1 j3 beige vvk185xh camerafarm australia   \n",
       "3  nikon 1 j3 beige vvk185xh camerafarm australia   \n",
       "4  nikon 1 j3 beige vvk185xh camerafarm australia   \n",
       "\n",
       "                                    right_page_title  \n",
       "0  nikon 1 j3 w 10 30mm lens 10 30 mm 01820827638...  \n",
       "1  nikon 1 j3 14 2mp kit w vr 10 30mm lens w 4gb ...  \n",
       "2  nikon 1 j3 kit 10 30mm shopping comparison nik...  \n",
       "3  nikon 1 j3 14 2mp hd 10 30mm vr lens 018208276...  \n",
       "4  nikon 1 j3 14 2mp kit w vr 10 30mm lens 018208...  "
      ]
     },
     "execution_count": 17,
     "metadata": {},
     "output_type": "execute_result"
    }
   ],
   "source": [
    "entity_resolution_engine.output_df.head(5)"
   ]
  },
  {
   "cell_type": "code",
   "execution_count": 19,
   "metadata": {},
   "outputs": [
    {
     "name": "stdout",
     "output_type": "stream",
     "text": [
      "calculating precision, recall and f-measure ...\n",
      "Precision: 0.9610960417922443 Recall: 0.8996591042670742 F-measure:  0.9293633349928961\n"
     ]
    }
   ],
   "source": [
    "if use_labelled_set:\n",
    "    precision,recall,f_measure,incorrect_pairs = entity_resolution_engine.calculate_f_measure()\n",
    "    print('Precision:', precision,'Recall:', recall,'F-measure: ',f_measure)"
   ]
  },
  {
   "cell_type": "code",
   "execution_count": null,
   "metadata": {
    "collapsed": true
   },
   "outputs": [],
   "source": []
  },
  {
   "cell_type": "code",
   "execution_count": null,
   "metadata": {
    "collapsed": true
   },
   "outputs": [],
   "source": []
  }
 ],
 "metadata": {
  "kernelspec": {
   "display_name": "Python [anaconda]",
   "language": "python",
   "name": "Python [anaconda]"
  },
  "language_info": {
   "codemirror_mode": {
    "name": "ipython",
    "version": 3
   },
   "file_extension": ".py",
   "mimetype": "text/x-python",
   "name": "python",
   "nbconvert_exporter": "python",
   "pygments_lexer": "ipython3",
   "version": "3.5.5"
  }
 },
 "nbformat": 4,
 "nbformat_minor": 2
}
